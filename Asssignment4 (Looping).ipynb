{
 "cells": [
  {
   "cell_type": "markdown",
   "id": "03ba1797-1d12-40ee-aebe-004540414645",
   "metadata": {},
   "source": [
    "1. Write a Python program to print the numbers from 1 to 10 using a for loop"
   ]
  },
  {
   "cell_type": "code",
   "execution_count": 4,
   "id": "c2294aab-58d2-4bf7-ab1b-14af3c2a324f",
   "metadata": {},
   "outputs": [
    {
     "name": "stdout",
     "output_type": "stream",
     "text": [
      "1\n",
      "2\n",
      "3\n",
      "4\n",
      "5\n",
      "6\n",
      "7\n",
      "8\n",
      "9\n",
      "10\n"
     ]
    }
   ],
   "source": [
    "num = 0\n",
    "for i in range(1,11):\n",
    "    num = num + 1\n",
    "    print(num)"
   ]
  },
  {
   "cell_type": "markdown",
   "id": "611e2b39-9c4d-4c32-8a8f-f1c9ba94527d",
   "metadata": {},
   "source": [
    "2. Write a Python program to print the numbers from 20 to 1 using a while loop.\n"
   ]
  },
  {
   "cell_type": "code",
   "execution_count": 6,
   "id": "8b8a795d-eba9-4bba-a9ce-0d1edf3acab0",
   "metadata": {},
   "outputs": [
    {
     "name": "stdout",
     "output_type": "stream",
     "text": [
      "20\n",
      "19\n",
      "18\n",
      "17\n",
      "16\n",
      "15\n",
      "14\n",
      "13\n",
      "12\n",
      "11\n",
      "10\n",
      "9\n",
      "8\n",
      "7\n",
      "6\n",
      "5\n",
      "4\n",
      "3\n",
      "2\n",
      "1\n"
     ]
    }
   ],
   "source": [
    "num = 21\n",
    "for i in range(0,20):\n",
    "    num = num - 1\n",
    "    print(num)"
   ]
  },
  {
   "cell_type": "markdown",
   "id": "8953c7c5-d39b-4e01-b4a2-5a4302f4bea7",
   "metadata": {},
   "source": [
    "3. Write a program to print even numbers from 1 to 10."
   ]
  },
  {
   "cell_type": "code",
   "execution_count": 13,
   "id": "b7974340-50f1-4ecf-bab0-a00c6e604175",
   "metadata": {},
   "outputs": [
    {
     "name": "stdout",
     "output_type": "stream",
     "text": [
      "2\n",
      "4\n",
      "6\n",
      "8\n",
      "10\n"
     ]
    }
   ],
   "source": [
    "num = 1\n",
    "for i in range(1,11):\n",
    "    num = num + 1\n",
    "    if num % 2 == 0:\n",
    "        print(num)"
   ]
  },
  {
   "cell_type": "markdown",
   "id": "e194f2a0-8377-4080-a0cf-57f37901eb3d",
   "metadata": {},
   "source": [
    "4. Write a program that prompts the user to enter a number n and prints all the\n",
    "numbers from 1 to n. "
   ]
  },
  {
   "cell_type": "code",
   "execution_count": 17,
   "id": "bb5cb431-b7e7-4525-b3ad-322cffac7411",
   "metadata": {},
   "outputs": [
    {
     "name": "stdin",
     "output_type": "stream",
     "text": [
      "Enter a number for the range 8\n"
     ]
    },
    {
     "name": "stdout",
     "output_type": "stream",
     "text": [
      "1\n",
      "2\n",
      "3\n",
      "4\n",
      "5\n",
      "6\n",
      "7\n",
      "8\n"
     ]
    }
   ],
   "source": [
    "r = int(input(\"Enter a number for the range\"))\n",
    "num = 0\n",
    "\n",
    "for i in range(1,r+1):\n",
    "    num = num + 1\n",
    "    print(num)"
   ]
  },
  {
   "cell_type": "markdown",
   "id": "68c80bf6-c0c5-4a45-9a49-66862ee40f73",
   "metadata": {},
   "source": [
    "5. Write a program that prompts the user to enter a number n, and then prints all the\n",
    "odd numbers between 1 and n. \n"
   ]
  },
  {
   "cell_type": "code",
   "execution_count": 18,
   "id": "db71fde5-fd6e-4f8f-afde-4736276391c7",
   "metadata": {},
   "outputs": [
    {
     "name": "stdin",
     "output_type": "stream",
     "text": [
      "Enter a number for range 26\n"
     ]
    },
    {
     "name": "stdout",
     "output_type": "stream",
     "text": [
      "2\n",
      "4\n",
      "6\n",
      "8\n",
      "10\n",
      "12\n",
      "14\n",
      "16\n",
      "18\n",
      "20\n",
      "22\n",
      "24\n",
      "26\n"
     ]
    }
   ],
   "source": [
    "r = int(input('Enter a number for range'))\n",
    "num = 0\n",
    "\n",
    "for i in range(1,r+1):\n",
    "    num = num + 1\n",
    "    if num % 2 == 0:\n",
    "        print(num)"
   ]
  },
  {
   "cell_type": "markdown",
   "id": "c49598cc-f282-45c8-9ba6-07460d3fd36c",
   "metadata": {},
   "source": [
    "6. Write a program that prints 'Happy Birthday!' five times on screen. "
   ]
  },
  {
   "cell_type": "code",
   "execution_count": 19,
   "id": "2c8b6aa1-8601-4e98-b9d8-d875b239339b",
   "metadata": {},
   "outputs": [
    {
     "name": "stdout",
     "output_type": "stream",
     "text": [
      "Happy Birthday!\n",
      "Happy Birthday!\n",
      "Happy Birthday!\n",
      "Happy Birthday!\n",
      "Happy Birthday!\n"
     ]
    }
   ],
   "source": [
    "msg = \"Happy Birthday!\"\n",
    "\n",
    "for i in range(1,6):\n",
    "    print(msg)"
   ]
  },
  {
   "cell_type": "markdown",
   "id": "28963401-fe7c-4594-8bbe-9442fd3a03d3",
   "metadata": {},
   "source": [
    "7. Write a program that takes a number n as input from the user and generates the first\n",
    "n terms of the series formed by squaring the natural numbers\n",
    "- Sample output\n",
    "- Enter a number: 6\n",
    "- The first 6 terms of the series are:\n",
    "- 1 4 9 16 25 36"
   ]
  },
  {
   "cell_type": "code",
   "execution_count": 5,
   "id": "10eb2a1d-ed56-4d9b-be47-bcea35fb4fee",
   "metadata": {},
   "outputs": [
    {
     "name": "stdin",
     "output_type": "stream",
     "text": [
      "Enter a number: 6\n"
     ]
    },
    {
     "name": "stdout",
     "output_type": "stream",
     "text": [
      "1 4 9 16 25 36 "
     ]
    }
   ],
   "source": [
    "n = int(input(\"Enter a number:\"))\n",
    "\n",
    "for i in range(1, n+1):\n",
    "    print((i**2), end = \" \")"
   ]
  },
  {
   "cell_type": "markdown",
   "id": "1e2ac872-ad06-4fc8-9bb7-4c15a054d510",
   "metadata": {},
   "source": [
    "8. Write a program that prompts the user to input a number and prints its multiplication\n",
    "table. \n"
   ]
  },
  {
   "cell_type": "code",
   "execution_count": 22,
   "id": "f0cf194c-82d9-41e6-bc6c-f0506c02d552",
   "metadata": {},
   "outputs": [
    {
     "name": "stdin",
     "output_type": "stream",
     "text": [
      "Enter a number: 6\n"
     ]
    },
    {
     "name": "stdout",
     "output_type": "stream",
     "text": [
      "6 x 1 = 6\n",
      "6 x 2 = 12\n",
      "6 x 3 = 18\n",
      "6 x 4 = 24\n",
      "6 x 5 = 30\n",
      "6 x 6 = 36\n",
      "6 x 7 = 42\n",
      "6 x 8 = 48\n",
      "6 x 9 = 54\n",
      "6 x 10 = 60\n"
     ]
    }
   ],
   "source": [
    "num = int(input('Enter a number:'))\n",
    "r = 0\n",
    "\n",
    "for i in range (1,11):\n",
    "    r = r+1\n",
    "    print(f\"{num} x {r} = {num * r}\")"
   ]
  },
  {
   "cell_type": "markdown",
   "id": "d5241b53-c5ce-418e-ad9c-89b2a37165d2",
   "metadata": {},
   "source": [
    "9. Write a Python program to print the first 8 terms of an arithmetic progression starting\n",
    "with 3 and having a common difference of 4.\n",
    "- The program should output the following sequence:\n",
    "- 3 7 11 15 19 23 27 31"
   ]
  },
  {
   "cell_type": "code",
   "execution_count": 6,
   "id": "ffce852d-764e-4a04-a91e-f904a86e4809",
   "metadata": {},
   "outputs": [
    {
     "name": "stdout",
     "output_type": "stream",
     "text": [
      "3 7 11 15 19 23 27 31 "
     ]
    }
   ],
   "source": [
    "num = -1\n",
    "\n",
    "for i in range(1,9):\n",
    "    num = num + 4\n",
    "    print(num, end = \" \")"
   ]
  },
  {
   "cell_type": "markdown",
   "id": "0c6cfd9a-07ed-4c0e-8e8e-6d522086559a",
   "metadata": {},
   "source": [
    "10. Write a Python program to print the first 6 terms of a geometric sequence starting\n",
    "with 2 and having a common ratio of 3.\n",
    "- The program should output the following sequence:\n",
    "- 2 6 18 54 162 486 "
   ]
  },
  {
   "cell_type": "code",
   "execution_count": 7,
   "id": "894656ee-350e-490f-a6c8-930d5d1521d1",
   "metadata": {},
   "outputs": [
    {
     "name": "stdout",
     "output_type": "stream",
     "text": [
      "2\n",
      "6 18 54 162 486 "
     ]
    }
   ],
   "source": [
    "num = 2\n",
    "\n",
    "print(num)\n",
    "for i in range (1,6):\n",
    "    num = num * 3\n",
    "    print(num, end = \" \")"
   ]
  },
  {
   "cell_type": "markdown",
   "id": "54be77e2-876f-46a4-a4ec-78b49631c0e4",
   "metadata": {},
   "source": [
    "11. Write a program that asks the user for a positive integer value. The program should\n",
    "calculate the sum of all the integers from 1 up to the number entered. For example, if\n",
    "the user enters 20, the loop will find the sum of 1, 2, 3, 4, ... 20. \n"
   ]
  },
  {
   "cell_type": "code",
   "execution_count": 62,
   "id": "9bb85489-1c59-4792-b9a6-2dc3deb329ce",
   "metadata": {},
   "outputs": [
    {
     "name": "stdin",
     "output_type": "stream",
     "text": [
      "Enter a list of numbers or press q to quit: 1\n",
      "Enter a list of numbers or press q to quit: 2\n",
      "Enter a list of numbers or press q to quit: 3\n",
      "Enter a list of numbers or press q to quit: 4\n",
      "Enter a list of numbers or press q to quit: 5\n",
      "Enter a list of numbers or press q to quit: q\n"
     ]
    },
    {
     "name": "stdout",
     "output_type": "stream",
     "text": [
      "15\n"
     ]
    }
   ],
   "source": [
    "num_list = []\n",
    "s = 0\n",
    "\n",
    "while True:\n",
    "    num = input('Enter a list of numbers or press q to quit:')\n",
    "    if num == 'q':\n",
    "        break\n",
    "    else:\n",
    "        num_list.append(num)\n",
    "for a in num_list:\n",
    "    s = s + int(a)\n",
    "print (s)"
   ]
  },
  {
   "cell_type": "markdown",
   "id": "19bff88a-9644-4565-9b4d-e6dcccb54677",
   "metadata": {},
   "source": [
    "12. write a program that takes a positive integer N as input and calculates the sum of\n",
    "the reciprocals of all numbers from 1 up to N. The program should display the final sum.\n",
    "- Output of the program should be like:\n",
    "- Enter a positive integer: 5\n",
    "- The sum of reciprocals from 1 to 5 is: 2.28 "
   ]
  },
  {
   "cell_type": "code",
   "execution_count": 13,
   "id": "fab8e5d6-d715-42a8-baba-671b7a5e3aa6",
   "metadata": {},
   "outputs": [
    {
     "name": "stdin",
     "output_type": "stream",
     "text": [
      "Enter a number: 5\n"
     ]
    },
    {
     "name": "stdout",
     "output_type": "stream",
     "text": [
      "The sum of resprocal from 1 to 5 is: 2.28\n"
     ]
    }
   ],
   "source": [
    "N = int(input(\"Enter a number:\"))\n",
    "res_sum = 0\n",
    "\n",
    "for i in range(1, N+1):\n",
    "    res_sum += 1/i\n",
    "print(f\"The sum of resprocal from 1 to {N} is: {res_sum:.2f}\")"
   ]
  },
  {
   "cell_type": "markdown",
   "id": "a6c09aec-d799-430b-b3bf-7d77dd9e8ee7",
   "metadata": {},
   "source": [
    "13. Write a program that prompts the user to enter a number and repeats this process 5\n",
    "times. The program should accumulate the numbers entered and then display the final\n",
    "running total.\n",
    "- Sample Output:\n",
    "- Enter a number: 10\n",
    "- Enter a number: 15\n",
    "- Enter a number: 35\n",
    "- Enter a number: 40\n",
    "- Enter a number: 50\n",
    "- The final running total is: 150 \n"
   ]
  },
  {
   "cell_type": "code",
   "execution_count": 66,
   "id": "fa791f79-ffde-4e92-b4fe-d67b884aa3e4",
   "metadata": {},
   "outputs": [
    {
     "name": "stdin",
     "output_type": "stream",
     "text": [
      "Enter a list of numbers: 5\n",
      "Enter a list of numbers: 5\n",
      "Enter a list of numbers: 5\n",
      "Enter a list of numbers: 5\n",
      "Enter a list of numbers: 5\n"
     ]
    },
    {
     "name": "stdout",
     "output_type": "stream",
     "text": [
      "25\n"
     ]
    }
   ],
   "source": [
    "num_lst = []\n",
    "s = 0\n",
    "\n",
    "for a in range(5):\n",
    "    num = int(input('Enter a list of numbers:'))\n",
    "    num_lst.append(num)\n",
    "for n in num_lst:\n",
    "    s = s+n\n",
    "print (s)"
   ]
  },
  {
   "cell_type": "markdown",
   "id": "686cb0ed-1709-4fd9-a6b5-0c561ee74404",
   "metadata": {},
   "source": [
    "14. Write a program that prompts the user to enter a positive integer and calculates its\n",
    "factorial. The factorial of a positive integer 'n' is denoted as 'n!' and is calculated by\n",
    "multiplying all the integers from 1 to 'n' together. For example, the factorial of 5\n",
    "(denoted as 5!) is calculated as 1 x 2 x 3 x 4 x 5.\n",
    "The program should display the factorial value if the input is a positive number, or\n",
    "display a message stating that the factorial does not exist for negative numbers.\n",
    "Additionally, for an input of zero, the program should output that the factorial of 0 is 1. "
   ]
  },
  {
   "cell_type": "code",
   "execution_count": 26,
   "id": "10501d34-6794-42a4-afaa-41244860c298",
   "metadata": {},
   "outputs": [
    {
     "name": "stdin",
     "output_type": "stream",
     "text": [
      "Enter a positive integar: 11\n"
     ]
    },
    {
     "name": "stdout",
     "output_type": "stream",
     "text": [
      "The Factorial of 11! is: 39916800\n"
     ]
    }
   ],
   "source": [
    "n = int(input(\"Enter a positive integar:\"))\n",
    "n1 = 1\n",
    "\n",
    "if n < 0:\n",
    "    print(\"The factorial does not exist for negative numbers\")\n",
    "elif n == 0:\n",
    "    print(\"The Factorial of 0 is 1\")\n",
    "else:\n",
    "    for i in range(1, n +1):\n",
    "        n1 *= i\n",
    "    print(f\"The Factorial of {n}! is: {n1}\")"
   ]
  },
  {
   "cell_type": "markdown",
   "id": "e741ee42-bb32-4bf9-82f5-efcbf14a26d9",
   "metadata": {},
   "source": [
    "15. Write a Python program that prompts the user to enter a base number and an\n",
    "exponent, and then calculates the power of the base to the exponent. The program\n",
    "should not use the exponentiation operator (**) or the math.pow() function. The\n",
    "program should handle both positive and negative exponents. "
   ]
  },
  {
   "cell_type": "code",
   "execution_count": 63,
   "id": "f6f8cbf2-c02a-49d9-b1b7-076455120217",
   "metadata": {},
   "outputs": [
    {
     "data": {
      "text/plain": [
       "64"
      ]
     },
     "execution_count": 63,
     "metadata": {},
     "output_type": "execute_result"
    }
   ],
   "source": [
    "def calculate_exponent(num,exp):\n",
    "    s = 1\n",
    "    for a in range(1,exp+1):\n",
    "        s = s * num  \n",
    "    return s\n",
    "calculate_exponent(8,2)"
   ]
  },
  {
   "cell_type": "code",
   "execution_count": null,
   "id": "0403c6ee-5162-473e-8685-87d59561cb25",
   "metadata": {},
   "outputs": [],
   "source": []
  },
  {
   "cell_type": "code",
   "execution_count": null,
   "id": "e01f8549-0c0c-4139-afdc-13d1b59dddf2",
   "metadata": {},
   "outputs": [],
   "source": []
  },
  {
   "cell_type": "code",
   "execution_count": null,
   "id": "fbeae860-49d8-4f35-a50d-0f1dcba8c414",
   "metadata": {},
   "outputs": [],
   "source": []
  },
  {
   "cell_type": "code",
   "execution_count": null,
   "id": "f0ab73be-401a-4c7f-85bf-5ad8ce64b761",
   "metadata": {},
   "outputs": [],
   "source": []
  }
 ],
 "metadata": {
  "kernelspec": {
   "display_name": "Python 3 (ipykernel)",
   "language": "python",
   "name": "python3"
  },
  "language_info": {
   "codemirror_mode": {
    "name": "ipython",
    "version": 3
   },
   "file_extension": ".py",
   "mimetype": "text/x-python",
   "name": "python",
   "nbconvert_exporter": "python",
   "pygments_lexer": "ipython3",
   "version": "3.12.7"
  }
 },
 "nbformat": 4,
 "nbformat_minor": 5
}
