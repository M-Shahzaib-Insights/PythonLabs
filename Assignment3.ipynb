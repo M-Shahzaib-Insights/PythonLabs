{
 "cells": [
  {
   "cell_type": "markdown",
   "id": "b386069c-9247-4738-aa5c-4d03d24ffb54",
   "metadata": {},
   "source": [
    "## A-\tDiscounts and Pricing:\n",
    "### 1.\tCheck Discount Eligibility\n",
    "#### Write a program to check if a customer is eligible for a discount. If the total purchase is more than $100, apply a 10% discount and display the final price. Otherwise, display the total price as it is.\n"
   ]
  },
  {
   "cell_type": "code",
   "execution_count": 85,
   "id": "ad32ab48-ddf8-4e3b-b866-995a125e0399",
   "metadata": {},
   "outputs": [
    {
     "name": "stdin",
     "output_type": "stream",
     "text": [
      "Enter the item price 33\n",
      "Enter the items quantity 6\n"
     ]
    },
    {
     "name": "stdout",
     "output_type": "stream",
     "text": [
      "\n",
      "    Total Price:  198.00\n",
      "    Total Price after 10% Discount:  178.20\n",
      "    \n"
     ]
    }
   ],
   "source": [
    "# Taking input from the user\n",
    "price_per_item = float(input(\"Enter the item price\"))\n",
    "number_of_items = int(input(\"Enter the items quantity\"))\n",
    "\n",
    "# Total price Calculation\n",
    "total_price = price_per_item * number_of_items\n",
    "\n",
    "# Print function\n",
    "if total_price > 100:\n",
    "    print(f\"\"\"\n",
    "    Total Price: {total_price: .2f}\n",
    "    Total Price after 10% Discount: {total_price -(total_price * 0.1): .2f}\n",
    "    \"\"\")\n",
    "else:\n",
    "    print(f\"Total Price: {total_price: .2f}\")"
   ]
  },
  {
   "cell_type": "markdown",
   "id": "7ad67e22-d4c0-4ca6-a243-374c3cc431b3",
   "metadata": {},
   "source": [
    "### 2.\tCalculate Bulk Discount\n",
    "#### If a customer buys more than 5 items, apply a 15% discount on the total price. Otherwise, no discount is applied. Display the total price.\n"
   ]
  },
  {
   "cell_type": "code",
   "execution_count": 87,
   "id": "3e3432eb-503b-4ac9-ae32-1e66e769031f",
   "metadata": {},
   "outputs": [
    {
     "name": "stdin",
     "output_type": "stream",
     "text": [
      "Enter the item price 25\n",
      "Enter the items quantity 6\n"
     ]
    },
    {
     "name": "stdout",
     "output_type": "stream",
     "text": [
      "\n",
      "    Total Price:  150.00\n",
      "    Total Price after 10% Discount:  127.50\n",
      "    \n"
     ]
    }
   ],
   "source": [
    "# Taking input from the user\n",
    "price_per_item = float(input(\"Enter the item price\"))\n",
    "number_of_items = int(input(\"Enter the items quantity\"))\n",
    "\n",
    "# Total price Calculation\n",
    "total_price = price_per_item * number_of_items\n",
    "\n",
    "# Print function\n",
    "if number_of_items > 5:\n",
    "    print(f\"\"\"\n",
    "    Total Price: {total_price: .2f}\n",
    "    Total Price after 10% Discount: {total_price -(total_price * 0.15): .2f}\n",
    "    \"\"\")\n",
    "else:\n",
    "    print(f\"Total Price: {total_price: .2f}\")"
   ]
  },
  {
   "cell_type": "markdown",
   "id": "8a8003a2-1859-471d-8dd4-d0977407eee8",
   "metadata": {},
   "source": [
    "### 3.\tMembership Discount\n",
    "#### Check if the customer is a member (is_member = True). Members get a 20% discount; non-members get a 5% discount. Calculate and print the discounted price."
   ]
  },
  {
   "cell_type": "code",
   "execution_count": 3,
   "id": "fe26642e-884d-4055-ac33-edb912f54bc4",
   "metadata": {},
   "outputs": [
    {
     "name": "stdin",
     "output_type": "stream",
     "text": [
      "Enter Customer Name: Faisal\n",
      "Enter the item price 50\n",
      "Enter the items quantity 10\n"
     ]
    },
    {
     "name": "stdout",
     "output_type": "stream",
     "text": [
      "\n",
      "    Total Price:  500.00\n",
      "    Total Price after 20% Discount:  400.00\n",
      "    \n"
     ]
    }
   ],
   "source": [
    "# Creating members list\n",
    "members = [\"Ali\", \"Rehan\", \"Farooq\", \"Talha\", \"Faisal\"]\n",
    "\n",
    "# Taking input from the user\n",
    "cust_name = input(\"Enter Customer Name:\").title()\n",
    "price_per_item = float(input(\"Enter the item price\"))\n",
    "number_of_items = int(input(\"Enter the items quantity\"))\n",
    "\n",
    "# Total price Calculation\n",
    "total_price = price_per_item * number_of_items\n",
    "\n",
    "# Print function\n",
    "if cust_name in members:\n",
    "    print(f\"\"\"\n",
    "    Total Price: {total_price: .2f}\n",
    "    Total Price after 20% Discount: {total_price -(total_price * 0.20): .2f}\n",
    "    \"\"\")\n",
    "else:\n",
    "    print(f\"\"\"\n",
    "    Total Price: {total_price: .2f}\n",
    "    Total Price after 05% Discount: {total_price -(total_price * 0.05): .2f}\n",
    "    \"\"\")"
   ]
  },
  {
   "cell_type": "code",
   "execution_count": 23,
   "id": "8f41cc43-fc5a-4d1a-8bae-e2df27c1cb53",
   "metadata": {},
   "outputs": [
    {
     "name": "stdin",
     "output_type": "stream",
     "text": [
      "Are you a member or not (Y/N): n\n"
     ]
    },
    {
     "name": "stdout",
     "output_type": "stream",
     "text": [
      "Price: 9500.0\n"
     ]
    }
   ],
   "source": [
    "price = 10000\n",
    "\n",
    "is_member = input(\"Are you a member or not (Y/N):\").lower() #Y\n",
    "\n",
    "if is_member == 'y':\n",
    "    print (f\"Price: {price*0.80}\")\n",
    "else:\n",
    "    print (f\"Price: {price*0.95}\")"
   ]
  },
  {
   "cell_type": "markdown",
   "id": "144f58fd-a2a8-495a-888e-454ceeb883a3",
   "metadata": {},
   "source": [
    "### 4.\tSeasonal Sale\n",
    "#### If today is a holiday (is_holiday = True), apply a 25% discount; otherwise, apply a 10% discount. Calculate the price after discount."
   ]
  },
  {
   "cell_type": "code",
   "execution_count": 5,
   "id": "f0a0556f-5d26-453c-b66b-456f6561c647",
   "metadata": {},
   "outputs": [
    {
     "name": "stdin",
     "output_type": "stream",
     "text": [
      "Enter the Day: Sunday\n",
      "Enter Customer Name: Ali\n",
      "Enter the item price 20\n",
      "Enter the items quantity 10\n"
     ]
    },
    {
     "name": "stdout",
     "output_type": "stream",
     "text": [
      "\n",
      "    Total Price:  200.00\n",
      "    Total Price after 25% Discount:  150.00\n",
      "    \n"
     ]
    }
   ],
   "source": [
    "# Creating members list\n",
    "working_day = [\"Monday\", \"Tuesday\", \"Wednesday\", \"Thursday\", \"Friday\"]\n",
    "holiday_day = [\"Saturday\", \"Sunday\"]\n",
    "members = [\"Ali\", \"Rehan\", \"Farooq\", \"Talha\", \"Faisal\"]\n",
    "\n",
    "# Taking input from the user\n",
    "day = input(\"Enter the Day:\").title()\n",
    "cust_name = input(\"Enter Customer Name:\").title()\n",
    "price_per_item = float(input(\"Enter the item price\"))\n",
    "number_of_items = int(input(\"Enter the items quantity\"))\n",
    "\n",
    "# Total price Calculation\n",
    "total_price = price_per_item * number_of_items\n",
    "\n",
    "# Print function\n",
    "if day in holiday_day:\n",
    "    print(f\"\"\"\n",
    "    Total Price: {total_price: .2f}\n",
    "    Total Price after 25% Discount: {total_price -(total_price * 0.25): .2f}\n",
    "    \"\"\")\n",
    "else:\n",
    "    print(f\"\"\"\n",
    "    Total Price: {total_price: .2f}\n",
    "    Total Price after 10% Discount: {total_price -(total_price * 0.10): .2f}\n",
    "    \"\"\")"
   ]
  },
  {
   "cell_type": "markdown",
   "id": "00bf0160-e30d-4fee-9a68-b8c9839d6d3e",
   "metadata": {},
   "source": [
    "### 5.\tBuy-One-Get-One-Free\n",
    "#### If a customer buys an even number of items, they get half of them for free. Otherwise, they pay for all. Calculate the number of items the customer has to pay for."
   ]
  },
  {
   "cell_type": "code",
   "execution_count": 9,
   "id": "a9ed65be-c516-41ab-8fcd-47fdb0df3a11",
   "metadata": {},
   "outputs": [
    {
     "name": "stdin",
     "output_type": "stream",
     "text": [
      "Enter the item price 50\n",
      "Enter the items quantity 3\n"
     ]
    },
    {
     "name": "stdout",
     "output_type": "stream",
     "text": [
      "\n",
      "    Total Price:  150.00\n",
      "    \n"
     ]
    }
   ],
   "source": [
    "# Taking input from the user\n",
    "price_per_item = float(input(\"Enter the item price\"))\n",
    "number_of_items = int(input(\"Enter the items quantity\"))\n",
    "\n",
    "# Total price Calculation\n",
    "total_price = price_per_item * number_of_items\n",
    "\n",
    "# Print function\n",
    "if (number_of_items % 2) == 0:\n",
    "    print(f\"\"\"\n",
    "    Total Price: {total_price: .2f}\n",
    "    Total Price after 50% Discount: {total_price -(total_price * 0.50): .2f}\n",
    "    \"\"\")\n",
    "else:\n",
    "    print(f\"\"\"\n",
    "    Total Price: {total_price: .2f}\n",
    "    \"\"\")"
   ]
  },
  {
   "cell_type": "markdown",
   "id": "ac8861b6-4fb8-4524-84c2-713b06f05f80",
   "metadata": {},
   "source": [
    "## B-\tTax Calculations\n",
    "### 6.\tSales Tax\n",
    "#### If the price of an item is greater than $500, apply a luxury tax of 15%. Otherwise, apply a standard tax of 8%. Display the total price after tax."
   ]
  },
  {
   "cell_type": "code",
   "execution_count": 11,
   "id": "0e657603-030c-43fd-b567-919624c0d7d1",
   "metadata": {},
   "outputs": [
    {
     "name": "stdin",
     "output_type": "stream",
     "text": [
      "Enter the item price 520\n"
     ]
    },
    {
     "name": "stdout",
     "output_type": "stream",
     "text": [
      "\n",
      "    Total Price: $ 520.00\n",
      "    Luxury Tax: $ 78.00\n",
      "    Total Price after 15% Luxury tax: $ 598.00\n",
      "    \n"
     ]
    }
   ],
   "source": [
    "## Taking input from the user\n",
    "total_price = float(input(\"Enter the item price\"))\n",
    "\n",
    "# Tax Calculation\n",
    "luxury_tax = total_price * 0.15\n",
    "standard_tax = total_price * 0.08\n",
    "\n",
    "# Print function\n",
    "if total_price > 500:\n",
    "    print(f\"\"\"\n",
    "    Total Price: ${total_price: .2f}\n",
    "    Luxury Tax: ${luxury_tax: .2f}\n",
    "    Total Price after 15% Luxury tax: ${total_price + luxury_tax: .2f}\n",
    "    \"\"\")\n",
    "else:\n",
    "    print(f\"\"\"\n",
    "    Total Price: ${total_price: .2f}\n",
    "    Sales Tax: ${standard_tax: .2f}\n",
    "    Total Price after 8% Sales tax: ${total_price + standard_tax: .2f}\n",
    "    \"\"\")"
   ]
  },
  {
   "cell_type": "markdown",
   "id": "aa26604b-7d7f-4406-acba-f4317b0631ca",
   "metadata": {},
   "source": [
    "### 7.\tIncome Tax\n",
    "#### If a person's annual income is above $50,000, they pay 20% tax. Otherwise, they pay 10%. Calculate and display the tax amount.\n"
   ]
  },
  {
   "cell_type": "code",
   "execution_count": 3,
   "id": "83358f6e-d223-4edb-adaa-148b93e215df",
   "metadata": {},
   "outputs": [
    {
     "name": "stdin",
     "output_type": "stream",
     "text": [
      "Enter the monthly income 5000\n"
     ]
    },
    {
     "name": "stdout",
     "output_type": "stream",
     "text": [
      "\n",
      "    Total Annual Income: $ 60000.00\n",
      "    20% Income Tax: $ 12000.00\n",
      "    Total Income after 20% Income tax: $ 48000.00\n",
      "    \n"
     ]
    }
   ],
   "source": [
    "# Taking input from the user\n",
    "mon_income = float(input(\"Enter the monthly income\"))\n",
    "\n",
    "# Annual Income Calculation\n",
    "annual_income = mon_income * 12\n",
    "\n",
    "# Print function\n",
    "if annual_income > 50000:\n",
    "    print(f\"\"\"\n",
    "    Total Annual Income: ${annual_income: .2f}\n",
    "    20% Income Tax: ${annual_income * 0.20: .2f}\n",
    "    Total Income after 20% Income tax: ${annual_income - (annual_income * 0.20): .2f}\n",
    "    \"\"\")\n",
    "else:\n",
    "    print(f\"\"\"\n",
    "    Total Annual Income: ${annual_income: .2f}\n",
    "    10% Income Tax: ${annual_income * 0.10: .2f}\n",
    "    Total Income after 10% Income tax: ${annual_income - (annual_income * 0.10): .2f}\n",
    "    \"\"\")"
   ]
  },
  {
   "cell_type": "markdown",
   "id": "e4a11a30-771b-4c6e-a026-c0f1a00cc7b3",
   "metadata": {},
   "source": [
    "### 8.\tTax Bracket\n",
    "#### Write a program to categorize a person into tax brackets:\n",
    "##### \tIncome < $30,000: \"Low Tax\"\n",
    "##### \t$30,000 ≤ Income < $100,000: \"Medium Tax\"\n",
    "##### \tIncome ≥ $100,000: \"High Tax\"\n"
   ]
  },
  {
   "cell_type": "code",
   "execution_count": 6,
   "id": "9cb540b8-95a9-47b0-9573-17d49cef8780",
   "metadata": {},
   "outputs": [
    {
     "name": "stdin",
     "output_type": "stream",
     "text": [
      "Enter the monthly income 2000\n"
     ]
    },
    {
     "name": "stdout",
     "output_type": "stream",
     "text": [
      "\n",
      "    Total Annual Income: $ 24000.00\n",
      "    Tax Category: Low Tax\n",
      "    \n"
     ]
    }
   ],
   "source": [
    "# Taking input from the user\n",
    "mon_income = float(input(\"Enter the monthly income\"))\n",
    "\n",
    "# Annual Income Calculation\n",
    "annual_income = mon_income * 12\n",
    "Tax_Category = None\n",
    "\n",
    "# if Condition\n",
    "if annual_income >= 100000:\n",
    "    Tax_Category = \"High Tax\"\n",
    "elif annual_income >= 30000:\n",
    "    Tax_Category = \"Medium Tax\"\n",
    "else:\n",
    "    Tax_Category = \"Low Tax\"\n",
    "\n",
    "# Print function\n",
    "print(f\"\"\"\n",
    "    Total Annual Income: ${annual_income: .2f}\n",
    "    Tax Category: {Tax_Category}\n",
    "    \"\"\")"
   ]
  },
  {
   "cell_type": "markdown",
   "id": "802cd987-16a1-4cca-a320-8422024db72f",
   "metadata": {},
   "source": [
    "### 9.\tVAT Calculation\n",
    "#### If the item is marked as essential (is_essential = True), apply a VAT of 5%. Otherwise, apply a VAT of 12%. Display the final price.\n"
   ]
  },
  {
   "cell_type": "code",
   "execution_count": 5,
   "id": "82a575df-af75-4f0c-904e-59842f43239a",
   "metadata": {},
   "outputs": [
    {
     "name": "stdin",
     "output_type": "stream",
     "text": [
      "Is the item essential or not (Y/N): y\n"
     ]
    },
    {
     "name": "stdout",
     "output_type": "stream",
     "text": [
      "Price: 11200.0\n"
     ]
    }
   ],
   "source": [
    "price = 10000\n",
    "\n",
    "is_essential = input(\"Is the item essential or not (Y/N):\").lower() #Y\n",
    "\n",
    "if is_essential == 'y':\n",
    "    print (f\"Price: {price + (price*0.12)}\")\n",
    "else:\n",
    "    print (f\"Price: {price}\")"
   ]
  },
  {
   "cell_type": "markdown",
   "id": "b9815e47-35ae-44d6-a758-257f792513cd",
   "metadata": {},
   "source": [
    "### 10.\tTax-Free Day\n",
    "#### If today is a tax-free day (tax_free = True), display the original price. Otherwise, add a 7% tax.\n"
   ]
  },
  {
   "cell_type": "code",
   "execution_count": 4,
   "id": "1f45bc51-c2da-4532-80cb-dcde980fa1b7",
   "metadata": {},
   "outputs": [
    {
     "name": "stdin",
     "output_type": "stream",
     "text": [
      "Is today tax free day or not (Y/N): Y\n"
     ]
    },
    {
     "name": "stdout",
     "output_type": "stream",
     "text": [
      "Price: 10000\n"
     ]
    }
   ],
   "source": [
    "price = 10000\n",
    "\n",
    "tax_free = input(\"Is today tax free day or not (Y/N):\").lower() #Y\n",
    "\n",
    "if tax_free == 'y':\n",
    "    print (f\"Price: {price}\")\n",
    "else:\n",
    "    print (f\"Price: {price + (price*0.07)}\")"
   ]
  },
  {
   "cell_type": "markdown",
   "id": "e4edef65-e887-43b6-b6c9-17eeb1eb8b84",
   "metadata": {},
   "source": [
    "## C-\tShopping and Billing"
   ]
  },
  {
   "cell_type": "markdown",
   "id": "8c057631-f94f-4fd2-a57a-e8eaf8b3e80f",
   "metadata": {},
   "source": [
    "### 11.\tFree Shipping\n",
    "#### If the total purchase amount is more than $50, offer free shipping; otherwise, charge $5 for shipping. Display the total amount including shipping\n"
   ]
  },
  {
   "cell_type": "code",
   "execution_count": 7,
   "id": "2ac87735-c2d8-4170-9115-e5205f12bf6f",
   "metadata": {},
   "outputs": [
    {
     "name": "stdin",
     "output_type": "stream",
     "text": [
      "Enter the item price 55\n"
     ]
    },
    {
     "name": "stdout",
     "output_type": "stream",
     "text": [
      "\n",
      "    Price:  55.00\n",
      "    Shipping Price:  0.00\n",
      "    Total Price with shipping:  55.00\n",
      "    \n"
     ]
    }
   ],
   "source": [
    "# Taking input from the user\n",
    "total_price = float(input(\"Enter the item price\"))\n",
    "shipping = None\n",
    "\n",
    "# If Condition\n",
    "if total_price > 50:\n",
    "    shipping = 0\n",
    "else:\n",
    "    shipping = 5\n",
    "\n",
    "# Print Function\n",
    "print(f\"\"\"\n",
    "    Price: {total_price: .2f}\n",
    "    Shipping Price: {shipping: .2f}\n",
    "    Total Price with shipping: {total_price + shipping: .2f}\n",
    "    \"\"\")"
   ]
  },
  {
   "cell_type": "markdown",
   "id": "6b09abd0-3b60-406c-a997-8a35e7c63642",
   "metadata": {},
   "source": [
    "### 12.\tDiscount Code\n",
    "#### If a customer enters the correct discount code (DISCOUNT10), apply a 10% discount. Otherwise, charge the full amount."
   ]
  },
  {
   "cell_type": "code",
   "execution_count": 13,
   "id": "7caa2334-d3a5-4829-b6f6-dc30f0ef26db",
   "metadata": {},
   "outputs": [
    {
     "name": "stdin",
     "output_type": "stream",
     "text": [
      "Enter the total price 1000\n",
      "Enter the discount code discount10\n"
     ]
    },
    {
     "name": "stdout",
     "output_type": "stream",
     "text": [
      "\n",
      "    Amount:  1000.00\n",
      "    Discount Amount:  100.00\n",
      "    Total Price after Discount:  900.00\n",
      "    \n"
     ]
    }
   ],
   "source": [
    "# Taking input from the user\n",
    "total_price = float(input(\"Enter the total price\"))\n",
    "discount_code = str(input(\"Enter the discount code\")).upper()\n",
    "discount = None\n",
    "\n",
    "# If Condition\n",
    "if discount_code == \"DISCOUNT10\":\n",
    "    discount = 0.10\n",
    "else:\n",
    "    discount = 0\n",
    "\n",
    "# Print Function\n",
    "print(f\"\"\"\n",
    "    Amount: {total_price: .2f}\n",
    "    Discount Amount: {total_price * discount: .2f}\n",
    "    Total Price after Discount: {total_price - (total_price * discount): .2f}\n",
    "    \"\"\")"
   ]
  },
  {
   "cell_type": "markdown",
   "id": "b93ea274-bdd5-4de5-94f5-625b28d4bac9",
   "metadata": {},
   "source": [
    "### 13.\tTiered Discounts\n",
    "#### Apply discounts based on the total price:\n",
    "##### $0–$50: No discount.\n",
    "##### $50–$100: 10% discount.\n",
    "##### Over $100: 20% discount.\n"
   ]
  },
  {
   "cell_type": "code",
   "execution_count": 18,
   "id": "11520b15-c798-4150-9ece-93769e5ec937",
   "metadata": {},
   "outputs": [
    {
     "name": "stdin",
     "output_type": "stream",
     "text": [
      "Enter the total price 200\n"
     ]
    },
    {
     "name": "stdout",
     "output_type": "stream",
     "text": [
      "\n",
      "    Amount:  200.00\n",
      "    Discount Amount:  40.00\n",
      "    Total Price after Discount:  160.00\n",
      "    \n"
     ]
    }
   ],
   "source": [
    "# Taking input from the user\n",
    "total_price = float(input(\"Enter the total price\"))\n",
    "discount = None\n",
    "\n",
    "# If Condition\n",
    "if total_price <= 50:\n",
    "    discount = 0\n",
    "elif total_price <= 100:\n",
    "    discount = 0.10\n",
    "elif total_price > 100:\n",
    "    discount = 0.20    \n",
    "\n",
    "# Print Function\n",
    "print(f\"\"\"\n",
    "    Amount: {total_price: .2f}\n",
    "    Discount Amount: {total_price * discount: .2f}\n",
    "    Total Price after Discount: {total_price - (total_price * discount): .2f}\n",
    "    \"\"\")"
   ]
  },
  {
   "cell_type": "markdown",
   "id": "1f456cec-2f49-419a-9887-31928db5049c",
   "metadata": {},
   "source": [
    "### 14.\tMinimum Purchase Requirement\n",
    "#### If the total amount is less than $20, display a message: \"Minimum purchase of $20 is required.\" Otherwise, display the total amount."
   ]
  },
  {
   "cell_type": "code",
   "execution_count": 21,
   "id": "471c3f38-e57e-4bcf-8073-21742bf0cd27",
   "metadata": {},
   "outputs": [
    {
     "name": "stdin",
     "output_type": "stream",
     "text": [
      "Enter the total price 15\n"
     ]
    },
    {
     "name": "stdout",
     "output_type": "stream",
     "text": [
      "Minimum Purchase of $20 is required!\n"
     ]
    }
   ],
   "source": [
    "# Taking input from the user\n",
    "total_price = float(input(\"Enter the total price\"))\n",
    "\n",
    "# If Condition\n",
    "if total_price < 20:\n",
    "    print(\"Minimum Purchase of $20 is required!\")\n",
    "else:\n",
    "    print(f\"Total price: ${total_price: .2f}\")"
   ]
  },
  {
   "cell_type": "markdown",
   "id": "64d88933-539f-4dba-abba-53a29fe9a4d6",
   "metadata": {},
   "source": [
    "### 15.\tLoyalty Points\n",
    "#### If a customer is a loyal member (is_loyal = True), they earn double loyalty points for their purchase. Otherwise, they earn standard points."
   ]
  },
  {
   "cell_type": "code",
   "execution_count": 26,
   "id": "9be156ed-8da3-4424-9b3a-7a104d5d2459",
   "metadata": {},
   "outputs": [
    {
     "name": "stdin",
     "output_type": "stream",
     "text": [
      "Enter the total price 500\n",
      "Are you a loyal member or not (Y/N): n\n"
     ]
    },
    {
     "name": "stdout",
     "output_type": "stream",
     "text": [
      "\n",
      "    Price: 500.0\n",
      "    Standard Points: Customer earned 250.0 standard points\n",
      "    \n"
     ]
    }
   ],
   "source": [
    "# Taking input from the user\n",
    "total_price = float(input(\"Enter the total price\"))\n",
    "is_loyalmember = input(\"Are you a loyal member or not (Y/N):\").lower() #Y\n",
    "points = total_price * 0.5\n",
    "\n",
    "#If Condition\n",
    "if is_loyalmember == 'y':\n",
    "    print (f\"\"\"\n",
    "    Price: {total_price}\n",
    "    Loyalty Points: Customer earned {points*2: .2f} loyalty points\n",
    "    \"\"\")\n",
    "else:\n",
    "    print (f\"\"\"\n",
    "    Price: {total_price}\n",
    "    Standard Points: Customer earned {points} standard points\n",
    "    \"\"\")"
   ]
  },
  {
   "cell_type": "markdown",
   "id": "291d1100-4858-43d9-bde5-d9266a9208cb",
   "metadata": {},
   "source": [
    "## D-\tTravel and Tickets"
   ]
  },
  {
   "cell_type": "markdown",
   "id": "46fc1514-40e9-40ef-a201-8ba4d64c1544",
   "metadata": {},
   "source": [
    "### 16.\tTravel Discount\n",
    "#### If a person is traveling more than 500 miles, offer a 20% discount on ticket price. Otherwise, charge the full amount."
   ]
  },
  {
   "cell_type": "code",
   "execution_count": 29,
   "id": "93e1d035-19f6-47c0-abf6-c77a174b1ffb",
   "metadata": {},
   "outputs": [
    {
     "name": "stdin",
     "output_type": "stream",
     "text": [
      "Enter the ticket price in dollars:  500\n",
      "Enter the distance to be traveled in miles:  600\n"
     ]
    },
    {
     "name": "stdout",
     "output_type": "stream",
     "text": [
      "Discounted ticket price: $400.00\n"
     ]
    }
   ],
   "source": [
    "# Input: ticket price and miles to be traveled\n",
    "ticket_price = float(input(\"Enter the ticket price in dollars: \"))\n",
    "miles = float(input(\"Enter the distance to be traveled in miles: \"))\n",
    "\n",
    "# Discount rate for travel more than 500 miles\n",
    "discount_rate = 0.20\n",
    "\n",
    "# Check if the distance is more than 500 miles\n",
    "if miles > 500:\n",
    "    discounted_price = ticket_price * (1 - discount_rate)\n",
    "    print(f\"Discounted ticket price: ${discounted_price:.2f}\")\n",
    "else:\n",
    "    print(f\"Full ticket price: ${ticket_price:.2f}\")"
   ]
  },
  {
   "cell_type": "markdown",
   "id": "6b50ef5d-3736-477b-89d3-67e76b241842",
   "metadata": {},
   "source": [
    "### 17.\tChild or Senior Discount\n",
    "#### If a passenger is under 12 or over 60 years old, apply a 15% discount on the ticket price. Otherwise, charge the full price.\n"
   ]
  },
  {
   "cell_type": "code",
   "execution_count": 39,
   "id": "e36157b0-1351-4a5f-b067-4e50a0c60a3e",
   "metadata": {},
   "outputs": [
    {
     "name": "stdin",
     "output_type": "stream",
     "text": [
      "Enter the ticket price in dollars:  100\n",
      "Enter the passenger's age:  55\n"
     ]
    },
    {
     "name": "stdout",
     "output_type": "stream",
     "text": [
      "Full ticket price: $100.00\n"
     ]
    }
   ],
   "source": [
    "# Input: ticket price and passenger age\n",
    "ticket_price = float(input(\"Enter the ticket price in dollars: \"))\n",
    "age = int(input(\"Enter the passenger's age: \"))\n",
    "\n",
    "# Check if the passenger is under 12 or over 60 years old\n",
    "if age < 12 or age > 60:\n",
    "    print(f\"\"\"\n",
    "    Ticket Price: ${ticket_price:.2f}\n",
    "    Discounted ticket price: ${ticket_price - (ticket_price * 0.15):.2f}\n",
    "    \"\"\")\n",
    "else:\n",
    "    print(f\"Full ticket price: ${ticket_price:.2f}\")"
   ]
  },
  {
   "cell_type": "markdown",
   "id": "4686fd51-7365-48cc-a6ca-d84011f31861",
   "metadata": {},
   "source": [
    "### 18.\tTicket Type Pricing\n",
    "#### If the ticket is for a weekend (is_weekend = True), add a 10% surcharge. Otherwise, charge the standard price."
   ]
  },
  {
   "cell_type": "code",
   "execution_count": 42,
   "id": "ba60ee85-388a-4bb7-9f61-7f814a65df9e",
   "metadata": {},
   "outputs": [
    {
     "name": "stdin",
     "output_type": "stream",
     "text": [
      "Enter the ticket price in dollars:  60\n",
      "Is the ticket for weekend or not(Y/N):  y\n"
     ]
    },
    {
     "name": "stdout",
     "output_type": "stream",
     "text": [
      "Ticket Price with surcharge: $66.00\n"
     ]
    }
   ],
   "source": [
    "# Input: ticket price and passenger age\n",
    "ticket_price = float(input(\"Enter the ticket price in dollars: \"))\n",
    "is_weekend = input(\"Is the ticket for weekend or not(Y/N): \").lower()\n",
    "\n",
    "# If Function\n",
    "if is_weekend == \"y\":\n",
    "    print(f\"Ticket Price with surcharge: ${ticket_price + (ticket_price * 0.10):.2f}\")\n",
    "else:\n",
    "    print(f\"Ticket price: ${ticket_price:.2f}\")\n",
    "    "
   ]
  },
  {
   "cell_type": "markdown",
   "id": "3b06a032-acda-4b0d-b4ab-73836e4bb659",
   "metadata": {},
   "source": [
    "### 19.\tBaggage Fee\n",
    "#### If the total baggage weight is over 20kg, charge $10 per extra kilogram. Otherwise, no extra fee."
   ]
  },
  {
   "cell_type": "code",
   "execution_count": 28,
   "id": "6c7b6fa2-a119-459d-a6ed-1a397196da5a",
   "metadata": {},
   "outputs": [
    {
     "name": "stdin",
     "output_type": "stream",
     "text": [
      "Enter the total baggage weight in kg:  20\n"
     ]
    },
    {
     "name": "stdout",
     "output_type": "stream",
     "text": [
      "No extra baggage fee.\n"
     ]
    }
   ],
   "source": [
    "# Input: total baggage weight\n",
    "total_weight = float(input(\"Enter the total baggage weight in kg: \"))\n",
    "\n",
    "# Threshold weight for no extra fee\n",
    "threshold_weight = 20\n",
    "\n",
    "# Fee per extra kilogram if weight exceeds the threshold\n",
    "extra_fee_per_kg = 10\n",
    "\n",
    "# Check if the total weight exceeds the threshold\n",
    "if total_weight > threshold_weight:\n",
    "    extra_weight = total_weight - threshold_weight\n",
    "    extra_fee = extra_weight * extra_fee_per_kg\n",
    "    print(f\"Extra baggage fee: ${extra_fee}\")\n",
    "else:\n",
    "    print(\"No extra baggage fee.\")"
   ]
  },
  {
   "cell_type": "markdown",
   "id": "2ef8272e-369a-48b4-8656-6d8fff21b28c",
   "metadata": {},
   "source": [
    "### 20.\tEarly Bird Discount\n",
    "#### If a ticket is booked more than 30 days in advance, apply a 10% discount. Otherwise, charge the full price."
   ]
  },
  {
   "cell_type": "code",
   "execution_count": 44,
   "id": "f3ac8c4e-40cf-4dd9-84b7-44d20f320c6f",
   "metadata": {},
   "outputs": [
    {
     "name": "stdin",
     "output_type": "stream",
     "text": [
      "Enter the ticket price in dollars:  60\n",
      "Enter the number of days in advance the ticket is booked:  31\n"
     ]
    },
    {
     "name": "stdout",
     "output_type": "stream",
     "text": [
      "Ticket Price with 10% dicount: $54.00\n"
     ]
    }
   ],
   "source": [
    "# Input: ticket price and number of days in advance the ticket is booked\n",
    "ticket_price = float(input(\"Enter the ticket price in dollars: \"))\n",
    "days_in_advance = int(input(\"Enter the number of days in advance the ticket is booked: \"))\n",
    "\n",
    "# If Function\n",
    "if days_in_advance > 30:\n",
    "    print(f\"Ticket Price with 10% dicount: ${ticket_price - (ticket_price * 0.10):.2f}\")\n",
    "else:\n",
    "    print(f\"Ticket price: ${ticket_price:.2f}\")\n",
    "    \n",
    "\n",
    "\n"
   ]
  },
  {
   "cell_type": "code",
   "execution_count": null,
   "id": "a3ecf469-f60e-468c-8a35-00ee8e8b09c9",
   "metadata": {},
   "outputs": [],
   "source": []
  },
  {
   "cell_type": "code",
   "execution_count": null,
   "id": "70509d28-3819-4ae6-a577-92f5c22491f3",
   "metadata": {},
   "outputs": [],
   "source": []
  },
  {
   "cell_type": "code",
   "execution_count": null,
   "id": "e7a534c6-574e-4caa-9c5a-5c932cbca857",
   "metadata": {},
   "outputs": [],
   "source": []
  }
 ],
 "metadata": {
  "kernelspec": {
   "display_name": "Python 3 (ipykernel)",
   "language": "python",
   "name": "python3"
  },
  "language_info": {
   "codemirror_mode": {
    "name": "ipython",
    "version": 3
   },
   "file_extension": ".py",
   "mimetype": "text/x-python",
   "name": "python",
   "nbconvert_exporter": "python",
   "pygments_lexer": "ipython3",
   "version": "3.12.7"
  }
 },
 "nbformat": 4,
 "nbformat_minor": 5
}
