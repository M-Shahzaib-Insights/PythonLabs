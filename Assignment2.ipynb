{
 "cells": [
  {
   "cell_type": "code",
   "execution_count": 8,
   "id": "44a0a0bc-8bf0-4fe2-9115-5835a7224eea",
   "metadata": {},
   "outputs": [],
   "source": [
    "import math"
   ]
  },
  {
   "cell_type": "markdown",
   "id": "f10fdd36-30c9-4555-b28e-9a97ee78db46",
   "metadata": {},
   "source": [
    "### 1) Area of a Rectangle:\n",
    "#### Write a Python program to calculate the area of a rectangle. Use the formula:\n",
    "#### 𝐴𝒓𝒆𝒂 = 𝒍𝒆𝒏𝒈𝒕𝒉 × 𝒘𝒊𝒅𝒕𝒉\n",
    "#### Take length and width as inputs from the user. "
   ]
  },
  {
   "cell_type": "code",
   "execution_count": 1,
   "id": "a5ee1369-81d2-4281-8424-57105e704d68",
   "metadata": {},
   "outputs": [
    {
     "name": "stdin",
     "output_type": "stream",
     "text": [
      "Enter the length of the triangle: 4\n",
      "Enter the width of the triangle: 2\n"
     ]
    },
    {
     "name": "stdout",
     "output_type": "stream",
     "text": [
      "The Area of the triangle is 8\n"
     ]
    }
   ],
   "source": [
    "# Take user input\n",
    "length = input(\"Enter the length of the triangle:\")\n",
    "width = input(\"Enter the width of the triangle:\")\n",
    "\n",
    "# Calculate Area\n",
    "Area = int(length) * int(width) \n",
    "\n",
    "# Display the Area of a triangle\n",
    "print(f\"The Area of the triangle is {Area}\")"
   ]
  },
  {
   "cell_type": "markdown",
   "id": "5134d68f-3719-49f4-976b-6be46abc1af5",
   "metadata": {},
   "source": [
    "#### 2) Circumference of a Circle:\n",
    "#### Write a Python program to calculate the circumference of a circle. Use the formula:\n",
    "####  𝑪𝒊𝒓𝒄𝒖𝒎𝒇𝒆𝒓𝒆𝒏𝒄𝒆 = 𝟐𝝅𝒓\n",
    "#### Take the radius r as input from the user."
   ]
  },
  {
   "cell_type": "code",
   "execution_count": 10,
   "id": "30f1d45b-27dd-41bf-b054-a165d6c87aa6",
   "metadata": {},
   "outputs": [
    {
     "name": "stdin",
     "output_type": "stream",
     "text": [
      "Enter the radius of the circle: 4\n"
     ]
    },
    {
     "name": "stdout",
     "output_type": "stream",
     "text": [
      "The Circumference of a circle is 25.132741228718345\n"
     ]
    }
   ],
   "source": [
    "# Take user input\n",
    "radius = int(input(\"Enter the radius of the circle:\"))\n",
    "\n",
    "# Calculate Circumference of a Circle\n",
    "circumference = 2*radius*math.pi\n",
    "\n",
    "# Display the Circumference of a Circle\n",
    "print(f\"The Circumference of a circle is {circumference}\")"
   ]
  },
  {
   "cell_type": "markdown",
   "id": "6558a29c-8024-4003-acb3-bbbe9ff2641a",
   "metadata": {},
   "source": [
    "#### 3) Simple Interest:\n",
    "#### Write a Python program to calculate the simple interest. Use the formula:\n",
    "#### 𝑺𝒊𝒎𝒑𝒍𝒆 𝑰𝒏𝒕𝒆𝒓𝒆𝒔𝒕 = 𝑷𝒓𝒊𝒏𝒄𝒊𝒑𝒂𝒍 × 𝑹𝒂𝒕𝒆 × 𝑻𝒊𝒎𝒆\n",
    "#### Take Principal, Rate, and Time as inputs from the user."
   ]
  },
  {
   "cell_type": "code",
   "execution_count": 4,
   "id": "e33f7028-81eb-439b-8e3e-2aff8b18db51",
   "metadata": {},
   "outputs": [
    {
     "name": "stdin",
     "output_type": "stream",
     "text": [
      "Enter the Principal value: 4\n",
      "Enter the Rate: 5\n",
      "Enter the Time value: 6\n"
     ]
    },
    {
     "name": "stdout",
     "output_type": "stream",
     "text": [
      "The Value of simple interest is 120\n"
     ]
    }
   ],
   "source": [
    "# Take user input\n",
    "principal = int(input(\"Enter the Principal value:\"))\n",
    "Rate = int(input(\"Enter the Rate:\"))\n",
    "Time = int(input(\"Enter the Time value:\"))\n",
    "\n",
    "# Calculate Simple interest\n",
    "Simple_interest = principal*Rate*Time\n",
    "\n",
    "# Display the Simple interest\n",
    "print(f\"The Value of simple interest is {Simple_interest}\")"
   ]
  },
  {
   "cell_type": "markdown",
   "id": "74391eab-f69b-4b6f-ae35-5fcaf94c71ec",
   "metadata": {},
   "source": [
    "#### 4) Speed of an Object:\n",
    "#### Write a Python program to calculate the speed of an object. Use the formula:\n",
    "#### 𝑆𝒑𝒆𝒆𝒅 = 𝑫𝒊𝒔𝒕𝒂𝒏𝒄𝒆 / 𝑻𝒊𝒎𝒆\n",
    "#### Take Distance and Time as inputs from the user. \n"
   ]
  },
  {
   "cell_type": "code",
   "execution_count": 11,
   "id": "698baec4-afcf-4548-9886-30f2841275c0",
   "metadata": {},
   "outputs": [
    {
     "name": "stdin",
     "output_type": "stream",
     "text": [
      "Enter the distance: 4\n",
      "Enter the time: 20\n"
     ]
    },
    {
     "name": "stdout",
     "output_type": "stream",
     "text": [
      "The Value of Speed is 0.2\n"
     ]
    }
   ],
   "source": [
    "# Take user input\n",
    "d = int(input(\"Enter the distance:\"))\n",
    "t = int(input(\"Enter the time:\"))\n",
    "\n",
    "# Calculate Speed\n",
    "Speed = d/t\n",
    "\n",
    "# Display the Speed\n",
    "print(f\"The Value of Speed is {Speed}\")"
   ]
  },
  {
   "cell_type": "markdown",
   "id": "45e5cdeb-fe41-4b90-9d78-bc1f20d90aa2",
   "metadata": {},
   "source": [
    "#### 5) BMI Calculator:\n",
    "#### Write a Python program to calculate the Body Mass Index (BMI). Use the formula:\n",
    "#### BMI = Weight (kg)/(height)`2\n",
    "#### Take Weight (in kilograms) and Height (in meters) as inputs from the user. \n"
   ]
  },
  {
   "cell_type": "code",
   "execution_count": 12,
   "id": "31957fe6-8ab4-451d-94d8-02be1882b34f",
   "metadata": {},
   "outputs": [
    {
     "name": "stdin",
     "output_type": "stream",
     "text": [
      "Enter your Weight: 60\n",
      "Enter your Height: 5.9\n"
     ]
    },
    {
     "name": "stdout",
     "output_type": "stream",
     "text": [
      "Your BMI is 1.7236426314277504\n"
     ]
    }
   ],
   "source": [
    "# Take user input\n",
    "Weight = float(input(\"Enter your Weight:\"))\n",
    "Height = float(input(\"Enter your Height:\"))\n",
    "\n",
    "# Calculate BMI\n",
    "BMI = Weight/Height**2\n",
    "\n",
    "# Display the calculated BMI\n",
    "print(f\"Your BMI is {BMI}\")"
   ]
  },
  {
   "cell_type": "markdown",
   "id": "2e947e5c-2799-4a2a-a92d-361343d43907",
   "metadata": {},
   "source": [
    "#### 6) Force Using Newton's Second Law:\n",
    "#### Write a Python program to calculate the force on an object. Use the formula:\n",
    "#### F = ma\n",
    "#### Take m (mass in kilograms) and a (acceleration in meters/second²) as inputs from the user. \n"
   ]
  },
  {
   "cell_type": "code",
   "execution_count": 13,
   "id": "60a4930f-f24e-464f-b89b-c4ee9dfd64ca",
   "metadata": {},
   "outputs": [
    {
     "name": "stdin",
     "output_type": "stream",
     "text": [
      "Enter the mass value(Kg): 250\n",
      "Enter the value of acceleration: 60\n"
     ]
    },
    {
     "name": "stdout",
     "output_type": "stream",
     "text": [
      "The Force Value is 15000.0\n"
     ]
    }
   ],
   "source": [
    "# Take user input\n",
    "m = float(input(\"Enter the mass value(Kg):\"))\n",
    "a = float(input(\"Enter the value of acceleration:\"))\n",
    "\n",
    "# Calculate Force\n",
    "f = m*a\n",
    "\n",
    "# Display the Force\n",
    "print(f\"The Force Value is {f}\")"
   ]
  },
  {
   "cell_type": "markdown",
   "id": "093acac7-8195-414d-8b71-420ec5abccd6",
   "metadata": {},
   "source": [
    "#### 7) Compound Interest:\n",
    "#### Write a Python program to calculate compound interest. Use the formula:\n",
    "#### A = P* (1+𝒓/𝒏)`n-t\n",
    "#### Where:\n",
    "#### A= total amount\n",
    "#### P = principal amount\n",
    "#### r = annual interest rate (decimal)\n",
    "#### n = number of times interest is compounded per year\n",
    "#### t = time in years\n",
    "#### Take P, r, n, and t as inputs from the user. \n"
   ]
  },
  {
   "cell_type": "code",
   "execution_count": 16,
   "id": "01528179-6b3e-440d-99a6-8d44e36ce2b3",
   "metadata": {},
   "outputs": [
    {
     "name": "stdin",
     "output_type": "stream",
     "text": [
      "Enter the principal amount (P):  1000\n",
      "Enter the annual interest rate (r) as a decimal (e.g., 0.05 for 5%):  0.4\n",
      "Enter the number of times interest is compounded per year (n):  12\n",
      "Enter the time in years (t):  5\n"
     ]
    },
    {
     "name": "stdout",
     "output_type": "stream",
     "text": [
      "The total amount (A) after 5 years is: 7151.98\n"
     ]
    }
   ],
   "source": [
    "# Take user input\n",
    "P = float(input(\"Enter the principal amount (P): \"))\n",
    "r = float(input(\"Enter the annual interest rate (r) as a decimal (e.g., 0.05 for 5%): \"))\n",
    "n = int(input(\"Enter the number of times interest is compounded per year (n): \"))\n",
    "t = int(input(\"Enter the time in years (t): \"))\n",
    "\n",
    "# Calculate compound interest\n",
    "A = P * (1 + r / n) ** (n * t)\n",
    "\n",
    "# Display the total amount\n",
    "print(f\"The total amount (A) after {t} years is: {A:.2f}\")"
   ]
  },
  {
   "cell_type": "markdown",
   "id": "cb4080e5-3235-460b-867c-e798da49e5f3",
   "metadata": {},
   "source": [
    "#### 8) Perimeter of a Triangle:\n",
    "#### Write a Python program to calculate the perimeter of a triangle. Use the formula:\n",
    "#### 𝑷𝒆𝒓𝒊𝒎𝒆𝒕𝒆𝒓 = 𝒂 + 𝒃 + 𝒄\n",
    "#### Take a, b, and c (lengths of the three sides) as inputs from the user.\n"
   ]
  },
  {
   "cell_type": "code",
   "execution_count": 18,
   "id": "6231995c-573f-44e7-a2f0-fe0b724f7343",
   "metadata": {},
   "outputs": [
    {
     "name": "stdin",
     "output_type": "stream",
     "text": [
      "Enter the length (a):  4\n",
      "Enter the length (b):  4\n",
      "Enter the length (c):  8\n"
     ]
    },
    {
     "name": "stdout",
     "output_type": "stream",
     "text": [
      "The perimeter of the triangle is: 16.00\n"
     ]
    }
   ],
   "source": [
    "# Take user input\n",
    "a = float(input(\"Enter the length (a): \"))\n",
    "b = float(input(\"Enter the length (b): \"))\n",
    "c = float(input(\"Enter the length (c): \"))\n",
    "\n",
    "# Calculate Perimeter\n",
    "P = a + b + c\n",
    "\n",
    "# Display the Perimeter of a triangle\n",
    "print(f\"The perimeter of the triangle is: {P:.2f}\")"
   ]
  },
  {
   "cell_type": "markdown",
   "id": "c9da15ed-3ecf-48dd-98a1-2dd792a62906",
   "metadata": {},
   "source": [
    "#### 9) Volume of a Sphere:\n",
    "#### Write a Python program to calculate the volume of a sphere. Use the formula:\n",
    "#### Volume = 4/3 𝝅𝒓`3\n",
    "#### Take r (radius) as input from the user."
   ]
  },
  {
   "cell_type": "code",
   "execution_count": 21,
   "id": "f92d641f-aefd-4404-b62d-6c5040d13302",
   "metadata": {},
   "outputs": [
    {
     "name": "stdin",
     "output_type": "stream",
     "text": [
      "Enter the radius (r):  2.5\n"
     ]
    },
    {
     "name": "stdout",
     "output_type": "stream",
     "text": [
      "The Volume of a sphere is: 65.45\n"
     ]
    }
   ],
   "source": [
    "# Take user input\n",
    "r = float(input(\"Enter the radius (r): \"))\n",
    "\n",
    "# Calculate Volume\n",
    "V = (4/3) * math.pi * r**3\n",
    "\n",
    "# Display the Volume of a sphere\n",
    "print(f\"The Volume of a sphere is: {V:.2f}\")"
   ]
  },
  {
   "cell_type": "markdown",
   "id": "30abf751-0151-43a3-9c83-24aa91980979",
   "metadata": {},
   "source": [
    "#### 10) Kinetic Energy:\n",
    "#### Write a Python program to calculate the kinetic energy of an object. Use the formula:\n",
    "#### 𝑲𝑬 = 𝟏/𝟐𝒎𝑽`𝟐\n",
    "#### Take m (mass in kilograms) and v (velocity in meters/second) as inputs from the user. \n"
   ]
  },
  {
   "cell_type": "code",
   "execution_count": 24,
   "id": "676fb6c9-c4ee-4344-9ecd-a01ed4b811c8",
   "metadata": {},
   "outputs": [
    {
     "name": "stdin",
     "output_type": "stream",
     "text": [
      "Enter the mass in kg (m):  40\n",
      "Enter the Velocity (V):  50\n"
     ]
    },
    {
     "name": "stdout",
     "output_type": "stream",
     "text": [
      "The Kinetic Energy of the object is 50000.00 Joules\n"
     ]
    }
   ],
   "source": [
    "# Take user input\n",
    "m = float(input(\"Enter the mass in kg (m): \"))\n",
    "V = float(input(\"Enter the Velocity (V): \"))\n",
    "\n",
    "# Calculate kinetic energy\n",
    "KE = (1/2) * m * V**2\n",
    "\n",
    "# Display the kinetic energy of an object\n",
    "print(f\"The Kinetic Energy of the object is {KE:.2f} Joules\")"
   ]
  },
  {
   "cell_type": "markdown",
   "id": "d39fd0e2-3c99-492e-98c3-6c46ff0e25a5",
   "metadata": {},
   "source": [
    "#### 11) Quadratic Equation Roots:\n",
    "#### Write a Python program to find the roots of a quadratic equation. Use the formula:\n",
    "#### X = -b±√b`2-4ac /2a\n",
    "#### Take a, b, and c as inputs from the user. \n"
   ]
  },
  {
   "cell_type": "code",
   "execution_count": 25,
   "id": "c135313d-f1dd-4b8e-8218-179c46a23ca9",
   "metadata": {},
   "outputs": [
    {
     "name": "stdin",
     "output_type": "stream",
     "text": [
      "Enter the coefficient a:  12\n",
      "Enter the coefficient b:  12\n",
      "Enter the coefficient c:  12\n"
     ]
    },
    {
     "name": "stdout",
     "output_type": "stream",
     "text": [
      "The roots are: -0.5 + 0.8660254037844387i and -0.5 - 0.8660254037844387i\n"
     ]
    }
   ],
   "source": [
    "# Take user input for coefficients a, b, and c\n",
    "a = float(input(\"Enter the coefficient a: \"))\n",
    "b = float(input(\"Enter the coefficient b: \"))\n",
    "c = float(input(\"Enter the coefficient c: \"))\n",
    "\n",
    "# Calculate the discriminant\n",
    "discriminant = b**2 - 4*a*c\n",
    "\n",
    "# Calculate the two roots using the quadratic formula\n",
    "# The real part of both roots\n",
    "real_part = -b / (2 * a)\n",
    "\n",
    "# For the imaginary part, we use sqrt(abs(discriminant)) for both real and complex cases\n",
    "imaginary_part = math.sqrt(abs(discriminant)) / (2 * a)\n",
    "\n",
    "# If discriminant is positive or zero, roots are real\n",
    "# If discriminant is negative, roots are complex (we show \"i\" for imaginary part)\n",
    "root1 = f\"{real_part + imaginary_part:.2f}\" if discriminant >= 0 else f\"{real_part} + {imaginary_part}i\"\n",
    "root2 = f\"{real_part - imaginary_part:.2f}\" if discriminant >= 0 else f\"{real_part} - {imaginary_part}i\"\n",
    "\n",
    "# Display the roots\n",
    "print(f\"The roots are: {root1} and {root2}\")"
   ]
  },
  {
   "cell_type": "markdown",
   "id": "6335a7a8-1f86-4487-9e72-d312106c0ee6",
   "metadata": {},
   "source": [
    "#### 12) Temperature Conversion:\n",
    "#### Write a Python program to convert a temperature from Celsius to Fahrenheit. Use the formula:\n",
    "#### F = 9/5 C + 32\n",
    "#### Take C (temperature in Celsius) as input from the user. \n"
   ]
  },
  {
   "cell_type": "code",
   "execution_count": 26,
   "id": "95157573-cd96-4d72-8e1f-d789c1d6d66f",
   "metadata": {},
   "outputs": [
    {
     "name": "stdin",
     "output_type": "stream",
     "text": [
      "Enter the tempertaure in Celsius (C):  28\n"
     ]
    },
    {
     "name": "stdout",
     "output_type": "stream",
     "text": [
      "The Temperature in Fahrenheit is 82.40 F\n"
     ]
    }
   ],
   "source": [
    "# Take user input\n",
    "C = float(input(\"Enter the tempertaure in Celsius (C): \"))\n",
    "\n",
    "# Convert Temperature in Fahrenheit\n",
    "F = (9/5) * C + 32\n",
    "\n",
    "# Display the Temperature in Fahrenheit\n",
    "print(f\"The Temperature in Fahrenheit is {F:.2f} F\")"
   ]
  },
  {
   "cell_type": "markdown",
   "id": "e9be62a9-66c1-4b45-aaf8-dad07d3e485f",
   "metadata": {},
   "source": [
    "#### 13) Gravitational Force:\n",
    "#### Write a Python program to calculate the gravitational force between two objects. Use the formula\n",
    "#### 𝑭 = 𝑮 𝒎𝟏 ∗ 𝒎𝟐/𝒓`𝟐\n",
    "#### m1, m2 are the masses of the objects\n",
    "#### r = distance between the centers of the objects\n",
    "#### Take m1, m2 and r as inputs from the user.\n"
   ]
  },
  {
   "cell_type": "code",
   "execution_count": 27,
   "id": "00318259-bf77-4f26-a412-f135b750b5e1",
   "metadata": {},
   "outputs": [
    {
     "name": "stdin",
     "output_type": "stream",
     "text": [
      "Enter the mass in kg of object 1 (m1):  50\n",
      "Enter the mass in kg of object 2 (m2):  60\n",
      "Enter the distance between objects (r):  20\n"
     ]
    },
    {
     "name": "stdout",
     "output_type": "stream",
     "text": [
      "The gravitational force between objects is 0.00 \n"
     ]
    }
   ],
   "source": [
    "# Take user input\n",
    "m1 = float(input(\"Enter the mass in kg of object 1 (m1): \"))\n",
    "m2 = float(input(\"Enter the mass in kg of object 2 (m2): \"))\n",
    "r = float(input(\"Enter the distance between objects (r): \"))\n",
    "\n",
    "# Gravitational constant in m^3 kg^-1 s^-2\n",
    "G = 6.67430 * 10**-11\n",
    "\n",
    "# Calculate gravitational force\n",
    "F = (G * m1 * m2) / r**2\n",
    "\n",
    "# Display the gravitational force between objects\n",
    "print(f\"The gravitational force between objects is {F:.2f} \")"
   ]
  },
  {
   "cell_type": "markdown",
   "id": "969d1e7e-584a-487a-8004-bdbddba2e7ff",
   "metadata": {},
   "source": [
    "#### 14) Volume of a Cylinder:\n",
    "#### Write a Python program to calculate the volume of a cylinder. Use the formula:\n",
    "#### 𝑽𝒐𝒍𝒖𝒎𝒆 = 𝝅𝒓𝟐𝒉\n",
    "#### Take radius(r) and height(h) as inputs from the user"
   ]
  },
  {
   "cell_type": "code",
   "execution_count": 28,
   "id": "b7d1d1cd-c909-4748-983d-db28de044653",
   "metadata": {},
   "outputs": [
    {
     "name": "stdin",
     "output_type": "stream",
     "text": [
      "Enter the radius of a cylinder (r):  5\n",
      "Enter the height of a cylinder (h):  10\n"
     ]
    },
    {
     "name": "stdout",
     "output_type": "stream",
     "text": [
      "The Volume of a cylinder is 314.16 m\n"
     ]
    }
   ],
   "source": [
    "# Take user input\n",
    "r = float(input(\"Enter the radius of a cylinder (r): \"))\n",
    "h = float(input(\"Enter the height of a cylinder (h): \"))\n",
    "\n",
    "# Calculate Volume of a cylinder\n",
    "V = math.pi * r * 2 * h\n",
    "\n",
    "# Display the result\n",
    "print(f\"The Volume of a cylinder is {V:.2f} m\")"
   ]
  },
  {
   "cell_type": "markdown",
   "id": "4233af60-1486-460d-b68e-250a12bf653d",
   "metadata": {},
   "source": [
    "#### 15) Pressure:\n",
    "#### Write a Python program to calculate the pressure exerted by a force on a surface. Use the formula:\n",
    "#### 𝑷 =𝑭/𝑨\n",
    "#### P = pressure\n",
    "#### F = force\n",
    "#### A = area\n",
    "#### Take F(force) and A(area) as inputs from the user. \n"
   ]
  },
  {
   "cell_type": "code",
   "execution_count": 30,
   "id": "ddfb68fd-a965-4dcc-b6f7-1876130290dc",
   "metadata": {},
   "outputs": [
    {
     "name": "stdin",
     "output_type": "stream",
     "text": [
      "Enter the force on a surface (f):  40\n",
      "Enter the area of a surface (a):  5\n"
     ]
    },
    {
     "name": "stdout",
     "output_type": "stream",
     "text": [
      "The pressure exerted by a force on a surface is 8.00 \n"
     ]
    }
   ],
   "source": [
    "# Take user input\n",
    "F = float(input(\"Enter the force on a surface (f): \"))\n",
    "A = float(input(\"Enter the area of a surface (a): \"))\n",
    "\n",
    "# Calculate Pressure by a surface force\n",
    "P = F / A\n",
    "\n",
    "# Display the result\n",
    "print(f\"The pressure exerted by a force on a surface is {P:.2f} \")"
   ]
  },
  {
   "cell_type": "markdown",
   "id": "4ed10a28-d43b-4176-867d-3bd7b7e96168",
   "metadata": {},
   "source": [
    "#### 16) Electric Power:\n",
    "#### Write a Python program to calculate the electric power consumed. Use the formula:\n",
    "#### where: P = V/I\n",
    "#### P = power\n",
    "#### V = voltage\n",
    "#### I = current\n",
    "#### Take V(voltage) and I(current) as inputs from the user.\n"
   ]
  },
  {
   "cell_type": "code",
   "execution_count": 31,
   "id": "727a3d33-8075-44ae-969e-e63b5501d976",
   "metadata": {},
   "outputs": [
    {
     "name": "stdin",
     "output_type": "stream",
     "text": [
      "Enter the Voltage (V):  240\n",
      "Enter the Current (I):  12\n"
     ]
    },
    {
     "name": "stdout",
     "output_type": "stream",
     "text": [
      "The electric power consumed is 20.00 \n"
     ]
    }
   ],
   "source": [
    "# Take user input\n",
    "V = float(input(\"Enter the Voltage (V): \"))\n",
    "I = float(input(\"Enter the Current (I): \"))\n",
    "\n",
    "# Calculate electric power consumed\n",
    "P = V / I\n",
    "\n",
    "# Display the result\n",
    "print(f\"The electric power consumed is {P:.2f} \")"
   ]
  },
  {
   "cell_type": "markdown",
   "id": "08cef0d2-b5b1-4110-9b92-75ba07ca8cd2",
   "metadata": {},
   "source": [
    "#### 17) Perimeter of a Circle (Circumference):\n",
    "#### Write a Python program to calculate the perimeter (circumference) of a circle. Use the formula:\n",
    "####  P = 𝟐𝝅r\n",
    "#### Take r (radius) as input from the user. "
   ]
  },
  {
   "cell_type": "code",
   "execution_count": 32,
   "id": "e2f19732-d8dc-48ce-a390-aa684bf37d31",
   "metadata": {},
   "outputs": [
    {
     "name": "stdin",
     "output_type": "stream",
     "text": [
      "Enter the radius of a circle (r):  2.5\n"
     ]
    },
    {
     "name": "stdout",
     "output_type": "stream",
     "text": [
      "The Perimeter of a Circle is 15.71 \n"
     ]
    }
   ],
   "source": [
    "# Take user input\n",
    "r = float(input(\"Enter the radius of a circle (r): \"))\n",
    "\n",
    "# Calculate the Perimeter of a Circle\n",
    "P = 2 * math.pi * r\n",
    "\n",
    "# Display the result\n",
    "print(f\"The Perimeter of a Circle is {P:.2f} \")"
   ]
  },
  {
   "cell_type": "markdown",
   "id": "30f70ba3-b145-47b2-9d37-e2e47b74eab7",
   "metadata": {},
   "source": [
    "#### 18) Future Value in Savings:\n",
    "#### Write a Python program to calculate the future value of an investment. Use the formula:\n",
    "#### 𝐹𝑉 = 𝑃𝑉(1 + 𝑟)`2\n",
    "#### where:\n",
    "#### o FV= future value\n",
    "#### o PV= present value\n",
    "#### o r= annual interest rate (as a decimal)\n",
    "#### o t= time in years\n",
    "#### Take PV, r, and t as inputs from the user. \n"
   ]
  },
  {
   "cell_type": "code",
   "execution_count": 35,
   "id": "d1cf6684-fc07-406e-9e32-979b5a2d2466",
   "metadata": {},
   "outputs": [
    {
     "name": "stdin",
     "output_type": "stream",
     "text": [
      "Enter the Present Value (PV):  500\n",
      "Enter the annual interest rate (r) (e.g: 0.05 for 5%):  0.2\n",
      "Enter time in years (t):  5\n"
     ]
    },
    {
     "name": "stdout",
     "output_type": "stream",
     "text": [
      "The Future Value of the investment will be 23002.56 \n"
     ]
    }
   ],
   "source": [
    "# Take user input\n",
    "PV = float(input(\"Enter the Present Value (PV): \"))\n",
    "r = float(input(\"Enter the annual interest rate (r) (e.g: 0.05 for 5%): \"))\n",
    "t = float(input(\"Enter time in years (t): \"))\n",
    "\n",
    "# Calculate the Future Value of an investment\n",
    "FV = PV * (1 + r)**21\n",
    "\n",
    "# Display the result\n",
    "print(f\"The Future Value of the investment will be {FV:.2f} \")"
   ]
  },
  {
   "cell_type": "markdown",
   "id": "066bd714-c140-4435-947d-b1dfb5ed25c9",
   "metadata": {},
   "source": [
    "#### 19) Work Done by a Force:\n",
    "#### Write a Python program to calculate the work done by a force. Use the formula:\n",
    "#### W = f.dCos0\n",
    "#### where: \n",
    "#### W = work done\n",
    "#### f= force\n",
    "#### d = distance\n",
    "#### theta = angle between force and direction of movement (in degrees)\n",
    "#### Take f, d, and θ as inputs from the user.\n"
   ]
  },
  {
   "cell_type": "code",
   "execution_count": 37,
   "id": "35abf7b3-8fee-48d9-8056-48970c88b5d8",
   "metadata": {},
   "outputs": [
    {
     "name": "stdin",
     "output_type": "stream",
     "text": [
      "Enter the force (f):  20\n",
      "Enter the distance (d):  5\n",
      "Enter the angle between force and direction (in degrees) (theta):  8\n"
     ]
    },
    {
     "name": "stdout",
     "output_type": "stream",
     "text": [
      "The workdone by a force is 99.03 \n"
     ]
    }
   ],
   "source": [
    "# Take user input\n",
    "f = float(input(\"Enter the force (f): \"))\n",
    "d = float(input(\"Enter the distance (d): \"))\n",
    "theta = float(input(\"Enter the angle between force and direction (in degrees) (theta): \"))\n",
    "\n",
    "# Convert angle from degrees to radians\n",
    "theta_radians = math.radians(theta)\n",
    "\n",
    "# Calculate the workdone by a force\n",
    "W = f * d * math.cos(theta_radians)\n",
    "\n",
    "# Display the result\n",
    "print(f\"The workdone by a force is {W:.2f} \")"
   ]
  },
  {
   "cell_type": "markdown",
   "id": "b12b1152-9791-4168-b555-7a44b8863147",
   "metadata": {},
   "source": [
    "#### 20) Heat Transfer:\n",
    "#### Write a Python program to calculate the amount of heat transferred. Use the formula:\n",
    "#### 𝑄 = 𝑚𝑐 (∆T)\n",
    "#### where:\n",
    "#### Q= heat transfer\n",
    "#### m = mass\n",
    "#### c = specific heat capacity\n",
    "#### ΔT\n",
    "#### Take m, c, T as inputs from the user."
   ]
  },
  {
   "cell_type": "code",
   "execution_count": 38,
   "id": "739b10ea-b9c0-4d7e-970e-c1fb2b2bdb7f",
   "metadata": {},
   "outputs": [
    {
     "name": "stdin",
     "output_type": "stream",
     "text": [
      "Enter the mass of the substance (in kg):  50\n",
      "Enter the specific heat capacity (in J/kg°C):  30\n",
      "Enter the initial temperature (in °C):  22\n",
      "Enter the final temperature (in °C):  36\n"
     ]
    },
    {
     "name": "stdout",
     "output_type": "stream",
     "text": [
      "The amount of heat transferred is 21000.00 joules\n"
     ]
    }
   ],
   "source": [
    "# Take user input for mass, specific heat capacity, and temperature change\n",
    "m = float(input(\"Enter the mass of the substance (in kg): \"))\n",
    "c = float(input(\"Enter the specific heat capacity (in J/kg°C): \"))\n",
    "T_initial = float(input(\"Enter the initial temperature (in °C): \"))\n",
    "T_final = float(input(\"Enter the final temperature (in °C): \"))\n",
    "\n",
    "# Calculate the temperature change\n",
    "delta_T = T_final - T_initial\n",
    "\n",
    "# Calculate the heat transferred using the formula Q = m * c * delta_T\n",
    "Q = m * c * delta_T\n",
    "\n",
    "# Display the result\n",
    "print(f\"The amount of heat transferred is {Q:.2f} joules\")"
   ]
  },
  {
   "cell_type": "code",
   "execution_count": null,
   "id": "d83f77e9-3a2c-4f1d-9d62-a290b620edfa",
   "metadata": {},
   "outputs": [],
   "source": []
  },
  {
   "cell_type": "code",
   "execution_count": null,
   "id": "652a1806-f269-403b-8839-c0a165e894ca",
   "metadata": {},
   "outputs": [],
   "source": []
  },
  {
   "cell_type": "code",
   "execution_count": null,
   "id": "916f3c35-7af1-403a-93a9-d9e2e64faf81",
   "metadata": {},
   "outputs": [],
   "source": []
  },
  {
   "cell_type": "markdown",
   "id": "d2a3dfdc-e612-4f96-8c70-e481e41c4147",
   "metadata": {},
   "source": []
  }
 ],
 "metadata": {
  "kernelspec": {
   "display_name": "Python 3 (ipykernel)",
   "language": "python",
   "name": "python3"
  },
  "language_info": {
   "codemirror_mode": {
    "name": "ipython",
    "version": 3
   },
   "file_extension": ".py",
   "mimetype": "text/x-python",
   "name": "python",
   "nbconvert_exporter": "python",
   "pygments_lexer": "ipython3",
   "version": "3.12.7"
  }
 },
 "nbformat": 4,
 "nbformat_minor": 5
}
