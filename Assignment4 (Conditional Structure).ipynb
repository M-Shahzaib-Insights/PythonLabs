{
 "cells": [
  {
   "cell_type": "markdown",
   "id": "f9952cf4-0b74-4617-84e2-114dba8aee80",
   "metadata": {},
   "source": [
    "1. Write a program that prompts the user to input a number and display if the number\n",
    "is even or odd."
   ]
  },
  {
   "cell_type": "code",
   "execution_count": 3,
   "id": "350a1a08-06af-4ce4-adc7-949ad54ba6df",
   "metadata": {},
   "outputs": [
    {
     "name": "stdin",
     "output_type": "stream",
     "text": [
      "Enter a number: 99\n"
     ]
    },
    {
     "name": "stdout",
     "output_type": "stream",
     "text": [
      "The number is Odd\n"
     ]
    }
   ],
   "source": [
    "num = int(input('Enter a number:'))\n",
    "\n",
    "if num % 2 == 0:\n",
    "    print(\"The number is Even\")\n",
    "else:\n",
    "    print(\"The number is Odd\")"
   ]
  },
  {
   "cell_type": "markdown",
   "id": "19a53619-220b-464c-ae0b-d3dfce787a4c",
   "metadata": {},
   "source": [
    " 2. Write a Python program that takes an age as input and determines whether a person\n",
    "is eligible to vote. If the age is 18 or above, print \"You are eligible to vote.\" Otherwise,\n",
    "print \"You are not eligible to vote yet.\". \n"
   ]
  },
  {
   "cell_type": "code",
   "execution_count": 7,
   "id": "905aa032-a205-4ed5-9040-953631d22d46",
   "metadata": {},
   "outputs": [
    {
     "name": "stdin",
     "output_type": "stream",
     "text": [
      "Enter your age to vote: 16\n"
     ]
    },
    {
     "name": "stdout",
     "output_type": "stream",
     "text": [
      "You are not eligible to vote\n"
     ]
    }
   ],
   "source": [
    "age = int(input(\"Enter your age to vote:\"))\n",
    "\n",
    "if age >= 18:\n",
    "    print('You are eligible to vote')\n",
    "else:\n",
    "    print('You are not eligible to vote')"
   ]
  },
  {
   "cell_type": "markdown",
   "id": "024e694b-3d2b-4d6c-9c13-7fd43c3baabc",
   "metadata": {},
   "source": [
    "3. Write a program that prompts the user to input two integers and outputs the largest. \n"
   ]
  },
  {
   "cell_type": "code",
   "execution_count": 11,
   "id": "0e5ac17c-3b18-4bd7-8741-228daa6f992a",
   "metadata": {},
   "outputs": [
    {
     "name": "stdin",
     "output_type": "stream",
     "text": [
      "Enter number 1: 9\n",
      "Enter number 2: 8\n"
     ]
    },
    {
     "name": "stdout",
     "output_type": "stream",
     "text": [
      "The largest number is 9\n"
     ]
    }
   ],
   "source": [
    "num1 = int(input(\"Enter number 1:\"))\n",
    "num2 = int(input(\"Enter number 2:\"))\n",
    "\n",
    "if num1 > num2:\n",
    "    print (f\"The largest number is {num1}\")\n",
    "elif num2 > num1:\n",
    "    print (f\"The largest number is {num2}\")\n",
    "else:\n",
    "    print (f\"Both numbers are same\")"
   ]
  },
  {
   "cell_type": "markdown",
   "id": "69f306f8-9d39-45ce-b6cd-051c22306bff",
   "metadata": {},
   "source": [
    "4. Write a program that prompts the user to enter a number and determines whether it\n",
    "is positive, negative, or zero. The program should print \"Positive\" if the number is\n",
    "greater than 0, \"Negative\" if the number is less than 0, and \"Zero\" if the number is 0. "
   ]
  },
  {
   "cell_type": "code",
   "execution_count": 16,
   "id": "08e97395-8db1-4e81-aed2-75b28ca54078",
   "metadata": {},
   "outputs": [
    {
     "name": "stdin",
     "output_type": "stream",
     "text": [
      "Enter a number 0\n"
     ]
    },
    {
     "name": "stdout",
     "output_type": "stream",
     "text": [
      "The number is Zero\n"
     ]
    }
   ],
   "source": [
    "num = int(input(\"Enter a number\"))\n",
    "\n",
    "if num > 0:\n",
    "    print(\"The number is Positive\")\n",
    "elif num < 0:\n",
    "    print(\"The number is Negative\")\n",
    "else:\n",
    "    print(\"The number is Zero\")"
   ]
  },
  {
   "cell_type": "markdown",
   "id": "c33f1f78-c651-413a-a549-099475a7b020",
   "metadata": {},
   "source": [
    "5. Write a program that prompts the user to enter their age and prints the\n",
    "corresponding age group. The program should use the following age groups:\n",
    "0-12: Child\n",
    "13-19: Teenager\n",
    "20-59: Adult\n",
    "60 and above: Senior Citizen"
   ]
  },
  {
   "cell_type": "code",
   "execution_count": 29,
   "id": "abc99fe6-8487-4261-baa9-07b0b7bb21f8",
   "metadata": {},
   "outputs": [
    {
     "name": "stdin",
     "output_type": "stream",
     "text": [
      "Enter your age: 59\n"
     ]
    },
    {
     "name": "stdout",
     "output_type": "stream",
     "text": [
      "You are an Adult\n"
     ]
    }
   ],
   "source": [
    "age = int(input(\"Enter your age:\"))\n",
    "\n",
    "if age < 13:\n",
    "    print(\"You are a Child\")\n",
    "elif age < 20:\n",
    "    print(\"You are a Teenager\")\n",
    "elif age < 60:\n",
    "    print(\"You are an Adult\")\n",
    "else:\n",
    "    print(\"You are a Senior Citizen\")    "
   ]
  },
  {
   "cell_type": "markdown",
   "id": "d0ce3e1d-b520-4947-b3a0-d068ebdcbd9b",
   "metadata": {},
   "source": [
    "6. Write a program that prompts the user to input a number from 1 to 7. The program\n",
    "should display the corresponding day for the given number. For example, if the user\n",
    "types 1, the output should be Sunday. If the user types 7, the output should be\n",
    "Saturday. If the number is not between 1 to 7 user should get error message as shown\n",
    "in sample output. \n"
   ]
  },
  {
   "cell_type": "code",
   "execution_count": 31,
   "id": "641da304-4222-4b22-adb6-8e49baa4d7a2",
   "metadata": {},
   "outputs": [
    {
     "name": "stdin",
     "output_type": "stream",
     "text": [
      "Enter your number from 1 to 7: 5\n"
     ]
    },
    {
     "name": "stdout",
     "output_type": "stream",
     "text": [
      "It's Thursday\n"
     ]
    }
   ],
   "source": [
    "day = int(input(\"Enter your number from 1 to 7:\"))\n",
    "\n",
    "if day == 1:\n",
    "    print(\"It's Sunday\")\n",
    "elif day == 2:\n",
    "    print(\"It's Monday\")\n",
    "elif day == 3:\n",
    "    print(\"It's Tuesday\")\n",
    "elif day == 4:\n",
    "    print(\"It's Wednesday\")\n",
    "elif day == 5:\n",
    "    print(\"It's Thursday\")\n",
    "elif day == 6:\n",
    "    print(\"It's Friday\")\n",
    "elif day == 7:\n",
    "    print(\"It's Saturday\")\n",
    "else:\n",
    "    print(\"invalid number\")    "
   ]
  },
  {
   "cell_type": "markdown",
   "id": "1df2e2ac-6359-4636-81c0-2c7d3d99292e",
   "metadata": {},
   "source": [
    "7. Write a program that prompts the user to enter their weight (in kilograms) and height\n",
    "(in meters). The program should calculate the Body Mass Index (BMI) using the formula:\n",
    "BMI = weight / (height * height). The program should then classify the BMI into one of\n",
    "the following categories: \n",
    "less than 18.5 - Underweight\n",
    "BMI between 18.5 and 24.9 - Normal weight\n",
    "BMI between 25 and 29.9 - Overweight\n",
    "BMI 30 or greater - Obesity \n"
   ]
  },
  {
   "cell_type": "code",
   "execution_count": 46,
   "id": "08390d40-0b32-4f67-8f64-ca34c0113443",
   "metadata": {},
   "outputs": [
    {
     "name": "stdin",
     "output_type": "stream",
     "text": [
      "Enter your weight in Kg: 120\n",
      "Enter your height in mtr: 1.8\n"
     ]
    },
    {
     "name": "stdout",
     "output_type": "stream",
     "text": [
      "37.03703703703704\n",
      "You are Obese\n"
     ]
    }
   ],
   "source": [
    "weight = float(input(\"Enter your weight in Kg:\"))\n",
    "height = float(input(\"Enter your height in mtr:\"))\n",
    "\n",
    "BMI = weight/(height**2)\n",
    "print (BMI)\n",
    "\n",
    "if BMI < 18.5:\n",
    "    print(\"You are underweight\")\n",
    "elif BMI < 25.00:\n",
    "    print(\"You are Normal\")\n",
    "elif BMI < 30.00:\n",
    "    print(\"You are overweight\")\n",
    "else:\n",
    "    print (\"You are Obese\")"
   ]
  },
  {
   "cell_type": "markdown",
   "id": "2fc4d7f0-f8b2-4cd7-a737-e2f507f9580c",
   "metadata": {},
   "source": [
    "8. The marks obtained by a student in 3 different subjects are input by the user. Your\n",
    "program should calculate the average of subjects and display the grade. The student\n",
    "gets a grade as per the following rules:\n",
    "Average Grade\n",
    "- 90-100 A\n",
    "- 80-89 B\n",
    "- 70-79 C\n",
    "- 60-69 D\n",
    "- 0-59 F"
   ]
  },
  {
   "cell_type": "code",
   "execution_count": 52,
   "id": "1b2a5366-102b-434d-a3c1-d73ce9da1829",
   "metadata": {},
   "outputs": [
    {
     "name": "stdin",
     "output_type": "stream",
     "text": [
      "Enter your marks for subject 1 75\n",
      "Enter your marks for subject 2 85\n",
      "Enter your marks for subject 3 77\n"
     ]
    },
    {
     "name": "stdout",
     "output_type": "stream",
     "text": [
      "\n",
      "        Your Total Score is 237.0\n",
      "        Your avg score is 79.0\n",
      "        Your average grade is C\n",
      "        \n"
     ]
    }
   ],
   "source": [
    "sub1 = float(input(\"Enter your marks for subject 1\"))\n",
    "sub2 = float(input(\"Enter your marks for subject 2\"))\n",
    "sub3 = float(input(\"Enter your marks for subject 3\"))\n",
    "\n",
    "total = (sub1+sub2+sub3)\n",
    "avg = total/3\n",
    "res = None\n",
    "\n",
    "if avg >= 90:\n",
    "    res = \"A\"\n",
    "elif avg >= 80:\n",
    "    res = \"B\"\n",
    "elif avg >= 70:\n",
    "    res = \"C\"\n",
    "elif avg >= 60:\n",
    "    res = \"D\"\n",
    "else:\n",
    "    res = \"F\"\n",
    "\n",
    "\n",
    "print(f\"\"\"\n",
    "        Your Total Score is {total}\n",
    "        Your avg score is {avg}\n",
    "        Your average grade is {res}\n",
    "        \"\"\")"
   ]
  },
  {
   "cell_type": "raw",
   "id": "8231b6b2-483f-421b-9f4e-f9583df4689e",
   "metadata": {},
   "source": [
    "9. The roots of the quadratic equation ax2 + bx + c = 0, a ≠ 0 are given by the following formula:\n",
    "\n",
    "In this formula, the term b2- 4ac is called the discriminant. If b2- 4ac = 0, then the\n",
    "equation has two equal roots.\n",
    "If b2 - 4ac > 0, the equation has two real roots.\n",
    "If b2 - 4ac < 0, the equation has two complex roots.\n",
    "\n",
    "Write a program that prompts the user to input the value of a (the coefficient of x2), b (the coefficient of x), and c (the constant term) and outputs the roots of the quadratic equation. \n"
   ]
  },
  {
   "cell_type": "code",
   "execution_count": 5,
   "id": "facf6247-c3a4-4fbf-bc4a-9d8a6378ad5c",
   "metadata": {},
   "outputs": [
    {
     "name": "stdin",
     "output_type": "stream",
     "text": [
      "Enter the coefficient a (for x^2):  5\n",
      "Enter the coefficient b (for x):  6\n",
      "Enter the constant term c:  1\n"
     ]
    },
    {
     "name": "stdout",
     "output_type": "stream",
     "text": [
      "The equation has two real roots: -0.2 and -1.0\n"
     ]
    }
   ],
   "source": [
    "a = float(input(\"Enter the coefficient a (for x^2): \"))\n",
    "b = float(input(\"Enter the coefficient b (for x): \"))\n",
    "c = float(input(\"Enter the constant term c: \"))\n",
    "discriminant = b**2 - 4*a*c\n",
    "\n",
    "if discriminant > 0:\n",
    "    root1 = (-b + discriminant**0.5) / (2 * a)\n",
    "    root2 = (-b - discriminant**0.5) / (2 * a)\n",
    "    print(f\"The equation has two real roots: {root1} and {root2}\")\n",
    "elif discriminant == 0:\n",
    "    root = -b / (2 * a)\n",
    "    print(f\"The equation has two equal roots: {root}\")\n",
    "else:\n",
    "    real_part = -b / (2 * a)\n",
    "    imaginary_part = (-discriminant)**0.5 / (2 * a)\n",
    "    print(f\"The equation has two complex roots: {real_part} + {imaginary_part}i and {real_part} - {imaginary_part}i\")"
   ]
  },
  {
   "cell_type": "markdown",
   "id": "71d2d7a5-c5b0-4839-a337-d8ed21814123",
   "metadata": {},
   "source": [
    "10. Write a program that prompts the user to enter three numbers and sorts them in\n",
    "ascending order. The program should print the sorted numbers."
   ]
  },
  {
   "cell_type": "code",
   "execution_count": 1,
   "id": "92f30c1d-1f63-4270-86f4-ba2e181bae38",
   "metadata": {},
   "outputs": [
    {
     "name": "stdin",
     "output_type": "stream",
     "text": [
      "Enter a number 12\n",
      "Enter a number 6\n",
      "Enter a number 2\n"
     ]
    },
    {
     "name": "stdout",
     "output_type": "stream",
     "text": [
      "The numbers in ascending orders are: [2, 6, 12]\n"
     ]
    }
   ],
   "source": [
    "num1 = int(input(\"Enter a number\"))\n",
    "num2 = int(input(\"Enter a number\"))\n",
    "num3 = int(input(\"Enter a number\"))\n",
    "\n",
    "num_lst = [num1,num2,num3]\n",
    "\n",
    "num_lst.sort()\n",
    "\n",
    "print(f\"The numbers in ascending orders are: {num_lst}\")"
   ]
  },
  {
   "cell_type": "markdown",
   "id": "f6158593-766d-4144-98e8-b127a219eb0a",
   "metadata": {},
   "source": [
    "11. Write a program that prompts the user to input three integers and outputs the\n",
    "largest. "
   ]
  },
  {
   "cell_type": "code",
   "execution_count": 57,
   "id": "b07775c3-90bd-4077-95f7-62516e121c5e",
   "metadata": {},
   "outputs": [
    {
     "name": "stdin",
     "output_type": "stream",
     "text": [
      "Enter a number: 5\n",
      "Enter a number: 4\n",
      "Enter a number: 11\n"
     ]
    },
    {
     "data": {
      "text/plain": [
       "11"
      ]
     },
     "execution_count": 57,
     "metadata": {},
     "output_type": "execute_result"
    }
   ],
   "source": [
    "num_lst = []\n",
    "a = 0\n",
    "\n",
    "for a in range(3):\n",
    "    n = int(input(\"Enter a number:\"))\n",
    "    num_lst.append(n)\n",
    "    a = a +1\n",
    "    \n",
    "def max_list(lst):\n",
    "    max_num = lst[0]\n",
    "    for n in lst:\n",
    "        if n > max_num:\n",
    "            max_num = n\n",
    "    return max_num\n",
    "\n",
    "max_list(num_lst)\n"
   ]
  },
  {
   "cell_type": "markdown",
   "id": "18c4c2c4-505d-4327-9053-cb68b28dee1f",
   "metadata": {},
   "source": [
    "12. Write a program that prompts the user to input a character and determine the\n",
    "character is vowel or consonant. \n"
   ]
  },
  {
   "cell_type": "code",
   "execution_count": 65,
   "id": "bd8061b5-7146-40b8-ba99-772f8e1442cf",
   "metadata": {},
   "outputs": [
    {
     "name": "stdin",
     "output_type": "stream",
     "text": [
      "Enter a character f\n"
     ]
    },
    {
     "name": "stdout",
     "output_type": "stream",
     "text": [
      "consonant\n"
     ]
    }
   ],
   "source": [
    "char = str(input(\"Enter a character\"))\n",
    "vowels = [\"a\",\"e\",\"i\",\"o\",\"u\",\"A\",\"E\",\"I\",\"O\",\"U\"]\n",
    "\n",
    "if char in vowels:\n",
    "    print(\"Vowel\")\n",
    "else:\n",
    "    print(\"consonant\")"
   ]
  },
  {
   "cell_type": "markdown",
   "id": "4b0dd101-2974-4f4a-86d0-1b9e1e7219cc",
   "metadata": {},
   "source": [
    "13. Write a program that prompts the user to input a year and determine whether the\n",
    "year is a leap year or not.\n",
    "Leap Years are any year that can be evenly divided by 4. A year that is evenly divisible by\n",
    "100 is a leap year only if it is also evenly divisible by 400. Example:\n",
    "1992 Leap Year\n",
    "2000 Leap Year\n",
    "1900 NOT a Leap Year\n",
    "1995 NOT a Leap Year \n"
   ]
  },
  {
   "cell_type": "code",
   "execution_count": 3,
   "id": "990bed0f-dc39-4663-bc55-593ac5a1e0e7",
   "metadata": {},
   "outputs": [
    {
     "name": "stdin",
     "output_type": "stream",
     "text": [
      "Enter a year:  1992\n"
     ]
    },
    {
     "name": "stdout",
     "output_type": "stream",
     "text": [
      "1992 is a Leap Year.\n"
     ]
    }
   ],
   "source": [
    "year = int(input(\"Enter a year: \"))\n",
    "\n",
    "if (year % 4 == 0 and year % 100 != 0) or (year % 400 == 0):\n",
    "    print(f\"{year} is a Leap Year.\")\n",
    "else:\n",
    "    print(f\"{year} is NOT a Leap Year.\")"
   ]
  },
  {
   "cell_type": "markdown",
   "id": "b9832afa-d8ba-44ac-96b0-6d32b845fa49",
   "metadata": {},
   "source": [
    "14. Write a program that prompts the user to input number of calls and calculate the\n",
    "monthly telephone bills as per the following rule:\n",
    "Minimum Rs. 200 for up to 100 calls.\n",
    "Plus Rs. 0.60 per call for next 50 calls.\n",
    "Plus Rs. 0.50 per call for next 50 calls.\n",
    "Plus Rs. 0.40 per call for any call beyond 200 calls. "
   ]
  },
  {
   "cell_type": "code",
   "execution_count": 4,
   "id": "71d2f9ec-7e7e-4eea-9305-5afa62a994e7",
   "metadata": {},
   "outputs": [
    {
     "name": "stdin",
     "output_type": "stream",
     "text": [
      "Enter the number of calls made:  250\n"
     ]
    },
    {
     "name": "stdout",
     "output_type": "stream",
     "text": [
      "The monthly telephone bill for 250 calls is: Rs. 275.00\n"
     ]
    }
   ],
   "source": [
    "num_calls = int(input(\"Enter the number of calls made: \"))\n",
    "bill = 0\n",
    "\n",
    "if num_calls <= 100:\n",
    "    bill = 200  # Minimum Rs. 200 for up to 100 calls\n",
    "elif num_calls <= 150:\n",
    "    bill = 200 + (num_calls - 100) * 0.60  # Rs. 0.60 per call for the next 50 calls\n",
    "elif num_calls <= 200:\n",
    "    bill = 200 + 50 * 0.60 + (num_calls - 150) * 0.50  # Rs. 0.50 per call for the next 50 calls\n",
    "else:\n",
    "    bill = 200 + 50 * 0.60 + 50 * 0.50 + (num_calls - 200) * 0.40  # Rs. 0.40 per call for any calls beyond 200\n",
    "\n",
    "print(f\"The monthly telephone bill for {num_calls} calls is: Rs. {bill:.2f}\")"
   ]
  },
  {
   "cell_type": "code",
   "execution_count": null,
   "id": "d1c2c171-9f7f-4351-90ba-db8f07996672",
   "metadata": {},
   "outputs": [],
   "source": []
  },
  {
   "cell_type": "code",
   "execution_count": null,
   "id": "3bd211fb-04df-46e5-969a-5ffbbc44c22f",
   "metadata": {},
   "outputs": [],
   "source": []
  },
  {
   "cell_type": "code",
   "execution_count": null,
   "id": "9bf1df78-6909-4139-9362-96fe4062020a",
   "metadata": {},
   "outputs": [],
   "source": []
  },
  {
   "cell_type": "code",
   "execution_count": null,
   "id": "db8d27d5-1370-4000-b4d9-2b5c7505b754",
   "metadata": {},
   "outputs": [],
   "source": []
  },
  {
   "cell_type": "code",
   "execution_count": null,
   "id": "4e1a401e-785c-4482-849e-74991450ba17",
   "metadata": {},
   "outputs": [],
   "source": []
  }
 ],
 "metadata": {
  "kernelspec": {
   "display_name": "Python 3 (ipykernel)",
   "language": "python",
   "name": "python3"
  },
  "language_info": {
   "codemirror_mode": {
    "name": "ipython",
    "version": 3
   },
   "file_extension": ".py",
   "mimetype": "text/x-python",
   "name": "python",
   "nbconvert_exporter": "python",
   "pygments_lexer": "ipython3",
   "version": "3.12.7"
  }
 },
 "nbformat": 4,
 "nbformat_minor": 5
}
