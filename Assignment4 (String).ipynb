{
 "cells": [
  {
   "cell_type": "raw",
   "id": "28285f72-eaad-4b29-850d-440b9a1024dd",
   "metadata": {},
   "source": [
    "1. Write a program that accepts a string from user. Your program should count and display number of\n",
    "vowels in that string. "
   ]
  },
  {
   "cell_type": "code",
   "execution_count": 1,
   "id": "de99c5bd-cfbd-4962-84e8-a1cafccaa052",
   "metadata": {},
   "outputs": [
    {
     "name": "stdin",
     "output_type": "stream",
     "text": [
      "Enter a word: Slam\n"
     ]
    },
    {
     "name": "stdout",
     "output_type": "stream",
     "text": [
      "The number of vowels in the string is: 1\n"
     ]
    }
   ],
   "source": [
    "word = str(input(\"Enter a word:\"))\n",
    "\n",
    "def count_vowels(word):\n",
    "    vowels = \"aeiouAEIOU\"\n",
    "    count = 0\n",
    "    \n",
    "    for char in word:\n",
    "        if char in vowels:\n",
    "            count += 1\n",
    "    return count\n",
    "\n",
    "vowel_count = count_vowels(word)\n",
    "print(f\"The number of vowels in the string is: {vowel_count}\")"
   ]
  },
  {
   "cell_type": "raw",
   "id": "0212f3d3-f3d9-4f72-91c3-056b5c0f31b0",
   "metadata": {},
   "source": [
    "2. Write a program that reads a string from keyboard and display:\n",
    "* The number of uppercase letters in the string\n",
    "* The number of lowercase letters in the string\n",
    "* The number of digits in the string\n",
    "* The number of whitespace characters in the string"
   ]
  },
  {
   "cell_type": "code",
   "execution_count": 3,
   "id": "9e3a3678-5481-4824-b50a-7aafdabc22fe",
   "metadata": {},
   "outputs": [
    {
     "name": "stdin",
     "output_type": "stream",
     "text": [
      "Enter a string:  I Love Marvel Comics\n"
     ]
    },
    {
     "name": "stdout",
     "output_type": "stream",
     "text": [
      "Number of uppercase letters: 4\n",
      "Number of lowercase letters: 13\n",
      "Number of digits: 0\n",
      "Number of whitespace characters: 3\n"
     ]
    }
   ],
   "source": [
    "def count_characters(word):\n",
    "    uppercase_count = 0\n",
    "    lowercase_count = 0\n",
    "    digit_count = 0\n",
    "    whitespace_count = 0\n",
    "    \n",
    "    for char in word:\n",
    "        if char.isupper():\n",
    "            uppercase_count += 1\n",
    "        elif char.islower():\n",
    "            lowercase_count += 1\n",
    "        elif char.isdigit():\n",
    "            digit_count += 1\n",
    "        elif char.isspace():\n",
    "            whitespace_count += 1       \n",
    "    return uppercase_count, lowercase_count, digit_count, whitespace_count\n",
    "\n",
    "user_input = input(\"Enter a string: \")\n",
    "uppercase, lowercase, digits, whitespace = count_characters(user_input)\n",
    "\n",
    "print(f\"Number of uppercase letters: {uppercase}\")\n",
    "print(f\"Number of lowercase letters: {lowercase}\")\n",
    "print(f\"Number of digits: {digits}\")\n",
    "print(f\"Number of whitespace characters: {whitespace}\")"
   ]
  },
  {
   "cell_type": "raw",
   "id": "72aeae39-ea51-4387-b064-5df3d1f3db66",
   "metadata": {},
   "source": [
    "3. Write a Python program that accepts a string from user. \n",
    "Your program should create and display a new string where the first and last characters have been exchanged.\n",
    "For example if the user enters the string 'HELLO' then new string would be 'OELLH' "
   ]
  },
  {
   "cell_type": "code",
   "execution_count": 6,
   "id": "7ec78b1c-8324-4d62-8c71-c83d5e46c2a1",
   "metadata": {},
   "outputs": [
    {
     "name": "stdin",
     "output_type": "stream",
     "text": [
      "Enter a word:  HELLO\n"
     ]
    },
    {
     "name": "stdout",
     "output_type": "stream",
     "text": [
      "The new word with first and last characters swapped is: OELLH\n"
     ]
    }
   ],
   "source": [
    "def swap_first_last(word):\n",
    "    if len(word) <= 1:\n",
    "        return word\n",
    "    else:\n",
    "        return word[-1] + word[1:-1] + word[0]\n",
    "\n",
    "word_input = input(\"Enter a word: \")\n",
    "new_word = swap_first_last(word_input)\n",
    "\n",
    "print(f\"The new word with first and last characters swapped is: {new_word}\")"
   ]
  },
  {
   "cell_type": "raw",
   "id": "e1baf955-ccbc-4b4f-8782-1f9e79d68528",
   "metadata": {},
   "source": [
    "4. Write a Python program that accepts a string from user. Your program should create a new string in reverse of first string and display it. \n",
    "- For example if the user enters the string 'EXAM' then new string would be 'MAXE' "
   ]
  },
  {
   "cell_type": "code",
   "execution_count": 7,
   "id": "1659e79f-c3de-46bc-a35b-a09f1b59986e",
   "metadata": {},
   "outputs": [
    {
     "name": "stdin",
     "output_type": "stream",
     "text": [
      "Enter a word:  KANE\n"
     ]
    },
    {
     "name": "stdout",
     "output_type": "stream",
     "text": [
      "The reversed word is: ENAK\n"
     ]
    }
   ],
   "source": [
    "def reverse_word(word):\n",
    "    return word[::-1]\n",
    "\n",
    "word_input = input(\"Enter a word: \")\n",
    "reversed_word = reverse_word(word_input)\n",
    "\n",
    "print(f\"The reversed word is: {reversed_word}\")"
   ]
  },
  {
   "cell_type": "raw",
   "id": "2a8c7017-4321-4438-b47b-8f92945d8ee4",
   "metadata": {},
   "source": [
    "5. Write a Python program that accepts a string from user. Your program should create a new string by shifting one position to left.\n",
    "- For example if the user enters the string 'examination 2021' then new string would be 'xamination\n",
    "2021e' "
   ]
  },
  {
   "cell_type": "code",
   "execution_count": 8,
   "id": "91621d35-15e6-454d-9c93-f15e3bc853d7",
   "metadata": {},
   "outputs": [
    {
     "name": "stdin",
     "output_type": "stream",
     "text": [
      "Enter a word:  Annual Year 2024\n"
     ]
    },
    {
     "name": "stdout",
     "output_type": "stream",
     "text": [
      "The new word after shifting left by one position is: nnual Year 2024A\n"
     ]
    }
   ],
   "source": [
    "def shift_left(word):\n",
    "    if len(word) > 1:\n",
    "        return word[1:] + word[0]\n",
    "    else:\n",
    "        return word\n",
    "\n",
    "word_input = input(\"Enter a word: \")\n",
    "shifted_word = shift_left(word_input)\n",
    "\n",
    "print(f\"The new word after shifting left by one position is: {shifted_word}\")"
   ]
  },
  {
   "cell_type": "raw",
   "id": "edd0bfa6-22bc-4306-888b-565a10ea59ea",
   "metadata": {},
   "source": [
    "6. Write a program that asks the user to input his name and print its initials. Assuming that the user always types first name, middle name and last name and does not include any unnecessary spaces.\n",
    "- For example, if the user enters Ajay Kumar Garg the program should display A. K. G.\n",
    "Note:Don't use split() method"
   ]
  },
  {
   "cell_type": "code",
   "execution_count": 9,
   "id": "3e21789d-397e-4e3b-a417-e23f35c009f0",
   "metadata": {},
   "outputs": [
    {
     "name": "stdin",
     "output_type": "stream",
     "text": [
      "Enter your full name (first, middle, last):  Muhammad Shahzaib Raza\n"
     ]
    },
    {
     "name": "stdout",
     "output_type": "stream",
     "text": [
      "The initials are: M. S. R.\n"
     ]
    }
   ],
   "source": [
    "def get_initials(name):\n",
    "    initials = \"\"\n",
    "    \n",
    "    for i in range(len(name)):\n",
    "        if i == 0 or name[i - 1] == \" \":\n",
    "            initials += name[i].upper() + \". \"\n",
    "    \n",
    "    return initials.strip()\n",
    "\n",
    "full_name = input(\"Enter your full name (first, middle, last): \")\n",
    "initials = get_initials(full_name)\n",
    "\n",
    "print(\"The initials are:\", initials)"
   ]
  },
  {
   "cell_type": "raw",
   "id": "538335f9-3212-4eda-a12f-1bf79dccbde3",
   "metadata": {},
   "source": [
    "7. A palindrome is a string that reads the same backward as forward. For example, the words dad, madam and radar are all palindromes. Write a programs that determines whether the string is a palindrome.\n",
    "- Note: do not use reverse() method"
   ]
  },
  {
   "cell_type": "code",
   "execution_count": 5,
   "id": "0ad5649e-8387-434c-a8f6-88cbb8eabf21",
   "metadata": {},
   "outputs": [
    {
     "name": "stdin",
     "output_type": "stream",
     "text": [
      "Enter a string:  kafe\n"
     ]
    },
    {
     "name": "stdout",
     "output_type": "stream",
     "text": [
      "'kafe' is not a palindrome.\n"
     ]
    }
   ],
   "source": [
    "def is_palindrome(s):\n",
    "    s = s.replace(\" \", \"\").lower()\n",
    "    \n",
    "    for i in range(len(s) // 2):\n",
    "        if s[i] != s[-(i + 1)]:\n",
    "            return False\n",
    "    return True\n",
    "\n",
    "input_string = input(\"Enter a string: \")\n",
    "\n",
    "if is_palindrome(input_string):\n",
    "    print(f\"'{input_string}' is a palindrome.\")\n",
    "else:\n",
    "    print(f\"'{input_string}' is not a palindrome.\")"
   ]
  },
  {
   "cell_type": "raw",
   "id": "75e77640-3c87-4a78-bdee-1ce4dd042b83",
   "metadata": {},
   "source": [
    "8. Write a program that display following output:\n",
    "- SHIFT\n",
    "- HIFTS\n",
    "- IFTSH\n",
    "- FTSHI\n",
    "- TSHIF\n",
    "- SHIFT"
   ]
  },
  {
   "cell_type": "code",
   "execution_count": 1,
   "id": "a255cf77-81a0-40be-a8a3-ed53f3f82b1c",
   "metadata": {},
   "outputs": [
    {
     "name": "stdout",
     "output_type": "stream",
     "text": [
      "SHIFT\n",
      "HIFTS\n",
      "IFTSH\n",
      "FTSHI\n",
      "TSHIF\n"
     ]
    }
   ],
   "source": [
    "text = \"SHIFT\"\n",
    "\n",
    "for i in range(len(text)):\n",
    "    rotated_text = text[i:] + text[:i]\n",
    "    print(rotated_text)"
   ]
  },
  {
   "cell_type": "raw",
   "id": "9f3bcb56-fd73-49be-a91c-cbd643aca524",
   "metadata": {},
   "source": [
    "9. Write a program in python that accepts a string to setup a passwords. Your entered password must meet the following requirements:\n",
    "- The password must be at least eight characters long.\n",
    "- It must contain at least one uppercase letter.\n",
    "- It must contain at least one lowercase letter.\n",
    "- It must contain at least one numeric digit.\n",
    "- Your program should should perform this validation. "
   ]
  },
  {
   "cell_type": "code",
   "execution_count": 11,
   "id": "5da58a63-6f5e-4dba-8246-3875a16563d1",
   "metadata": {},
   "outputs": [
    {
     "name": "stdin",
     "output_type": "stream",
     "text": [
      "Enter your password:  minimo\n"
     ]
    },
    {
     "name": "stdout",
     "output_type": "stream",
     "text": [
      "Password must be at least 8 characters long.\n"
     ]
    }
   ],
   "source": [
    "import re\n",
    "\n",
    "def validate_password(password):\n",
    "    if len(password) < 8:\n",
    "        return \"Password must be at least 8 characters long.\"\n",
    "    if not any(char.isupper() for char in password):\n",
    "        return \"Password must contain at least one uppercase letter.\"\n",
    "    if not any(char.islower() for char in password):\n",
    "        return \"Password must contain at least one lowercase letter.\"\n",
    "    if not any(char.isdigit() for char in password):\n",
    "        return \"Password must contain at least one numeric digit.\"\n",
    "    \n",
    "    return \"Password is valid.\"\n",
    "\n",
    "password_input = input(\"Enter your password: \")\n",
    "validation_result = validate_password(password_input)\n",
    "\n",
    "print(validation_result)\n"
   ]
  },
  {
   "cell_type": "code",
   "execution_count": null,
   "id": "96be6a3f-d933-4364-a38e-50ec250e8f23",
   "metadata": {},
   "outputs": [],
   "source": []
  },
  {
   "cell_type": "code",
   "execution_count": null,
   "id": "1f061700-80c0-46f6-85cc-6f9062880f8a",
   "metadata": {},
   "outputs": [],
   "source": []
  },
  {
   "cell_type": "code",
   "execution_count": null,
   "id": "736daad8-e68d-4817-a4fd-27c24811d314",
   "metadata": {},
   "outputs": [],
   "source": []
  },
  {
   "cell_type": "code",
   "execution_count": null,
   "id": "300651ba-7189-4e4c-9822-da8196592b87",
   "metadata": {},
   "outputs": [],
   "source": []
  },
  {
   "cell_type": "code",
   "execution_count": null,
   "id": "8439ea68-4612-48fa-93fa-f8b2c01214d8",
   "metadata": {},
   "outputs": [],
   "source": []
  },
  {
   "cell_type": "code",
   "execution_count": null,
   "id": "b0a89559-530d-4382-87b9-56a43767b3de",
   "metadata": {},
   "outputs": [],
   "source": []
  },
  {
   "cell_type": "code",
   "execution_count": null,
   "id": "de183402-b617-42ae-b911-b4682f713105",
   "metadata": {},
   "outputs": [],
   "source": []
  },
  {
   "cell_type": "code",
   "execution_count": null,
   "id": "abf5c7fb-01e5-4098-8057-317780e72135",
   "metadata": {},
   "outputs": [],
   "source": []
  }
 ],
 "metadata": {
  "kernelspec": {
   "display_name": "Python 3 (ipykernel)",
   "language": "python",
   "name": "python3"
  },
  "language_info": {
   "codemirror_mode": {
    "name": "ipython",
    "version": 3
   },
   "file_extension": ".py",
   "mimetype": "text/x-python",
   "name": "python",
   "nbconvert_exporter": "python",
   "pygments_lexer": "ipython3",
   "version": "3.12.7"
  }
 },
 "nbformat": 4,
 "nbformat_minor": 5
}
