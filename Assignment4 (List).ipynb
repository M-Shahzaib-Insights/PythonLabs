{
 "cells": [
  {
   "cell_type": "raw",
   "id": "12426238-b7b4-4ff0-b4cb-725b1c6177cd",
   "metadata": {},
   "source": [
    "1. Write a program that accepts a list from user and print the alternate element of list. "
   ]
  },
  {
   "cell_type": "code",
   "execution_count": 4,
   "id": "595ca1b2-9f43-490f-9467-f9672fadbf46",
   "metadata": {},
   "outputs": [
    {
     "name": "stdin",
     "output_type": "stream",
     "text": [
      "Enter the elements of the list:  humayun zakir kashif ahmed\n"
     ]
    },
    {
     "name": "stdout",
     "output_type": "stream",
     "text": [
      "Alternate elements of the list are:\n",
      "humayun\n",
      "zakir\n",
      "kashif\n",
      "ahmed\n"
     ]
    }
   ],
   "source": [
    "name_lst = input(\"Enter the elements of the list: \")\n",
    "e = name_lst.split()\n",
    "\n",
    "print(\"Alternate elements of the list are:\")\n",
    "for i in range(0, len(e)):\n",
    "    print(e[i])"
   ]
  },
  {
   "cell_type": "raw",
   "id": "7feab660-20d9-44e3-9b46-618f90e07f37",
   "metadata": {},
   "source": [
    "2. Write a program that accepts a list from user. Your program should reverse the content of list and\n",
    "display it. Do not use reverse() method. "
   ]
  },
  {
   "cell_type": "code",
   "execution_count": 11,
   "id": "f0319981-c23d-4775-a82c-62dd677b4cf9",
   "metadata": {},
   "outputs": [
    {
     "name": "stdin",
     "output_type": "stream",
     "text": [
      "Enter the elements of the list:  ahmed kashif raza sadiq\n"
     ]
    },
    {
     "name": "stdout",
     "output_type": "stream",
     "text": [
      "The reverser list is ['sadiq', 'raza', 'kashif', 'ahmed']\n"
     ]
    }
   ],
   "source": [
    "name_lst = input(\"Enter the elements of the list: \")\n",
    "e = name_lst.split()\n",
    "rev_lst = e[::-1]\n",
    "\n",
    "print (f\"The reverser list is {rev_lst}\")\n"
   ]
  },
  {
   "cell_type": "raw",
   "id": "a9e72dc5-aaa4-4975-b168-84fa5e33b658",
   "metadata": {},
   "source": [
    " 3. Find and display the largest number of a list without using built-in function max(). Your program\n",
    "should ask the user to input values in list from keyboard. "
   ]
  },
  {
   "cell_type": "code",
   "execution_count": 12,
   "id": "95d08306-1551-40e4-b369-f2efaa0e2f8a",
   "metadata": {},
   "outputs": [
    {
     "name": "stdin",
     "output_type": "stream",
     "text": [
      "Enter a number:  5\n",
      "Enter a number:  66\n",
      "Enter a number:  99\n"
     ]
    },
    {
     "name": "stdout",
     "output_type": "stream",
     "text": [
      "The largest number in the list is: 99\n"
     ]
    }
   ],
   "source": [
    "num_lst = []\n",
    "\n",
    "for _ in range(3):  \n",
    "    n = int(input(\"Enter a number: \"))\n",
    "    num_lst.append(n)\n",
    "\n",
    "def max_list(lst):\n",
    "    max_num = lst[0]   \n",
    "    for n in lst: \n",
    "        if n > max_num:\n",
    "            max_num = n  \n",
    "    return max_num\n",
    "\n",
    "result = max_list(num_lst)\n",
    "print(\"The largest number in the list is:\", result)"
   ]
  },
  {
   "cell_type": "raw",
   "id": "9e55df2b-a59f-429f-bc45-59c75a362655",
   "metadata": {},
   "source": [
    " 4. Write a program that rotates the element of a list so that the element at the first index moves to the\n",
    "second index, the element in the second index moves to the third index, etc., and the element in the last\n",
    "index moves to the first index. "
   ]
  },
  {
   "cell_type": "code",
   "execution_count": 14,
   "id": "158b3251-9a21-42c6-87d6-851a56f60c02",
   "metadata": {},
   "outputs": [
    {
     "name": "stdin",
     "output_type": "stream",
     "text": [
      "Enter the elements of the list separated by space:  Ahmed Raza Junaid Waqas\n"
     ]
    },
    {
     "name": "stdout",
     "output_type": "stream",
     "text": [
      "The rotated list is: ['Raza', 'Junaid', 'Waqas', 'Ahmed']\n"
     ]
    }
   ],
   "source": [
    "lst = input(\"Enter the elements of the list separated by space: \")\n",
    "e = lst.split()\n",
    "\n",
    "def rotate_list(lst):\n",
    "    if len(lst) <= 1:\n",
    "        return lst\n",
    "    rotated_lst = lst[1:] + [lst[0]]\n",
    "    return rotated_lst\n",
    "\n",
    "rotated_list = rotate_list(e)\n",
    "print(\"The rotated list is:\", rotated_list)"
   ]
  },
  {
   "cell_type": "raw",
   "id": "9bbe3cb7-234b-404b-a8c6-c78b8c03370f",
   "metadata": {},
   "source": [
    "5. Write a program that input a string and ask user to delete a given word from a string"
   ]
  },
  {
   "cell_type": "code",
   "execution_count": 15,
   "id": "1c2e7ba3-6510-4c64-80c0-1a0d82c1ab2b",
   "metadata": {},
   "outputs": [
    {
     "name": "stdin",
     "output_type": "stream",
     "text": [
      "Enter a string:  Ahmed Qasim Javed\n",
      "Enter the word you want to delete from the string:  Javed\n"
     ]
    },
    {
     "name": "stdout",
     "output_type": "stream",
     "text": [
      "The updated string after deletion is: Ahmed Qasim \n"
     ]
    }
   ],
   "source": [
    "input_string = input(\"Enter a string: \")\n",
    "word_to_delete = input(\"Enter the word you want to delete from the string: \")\n",
    "\n",
    "updated_string = input_string.replace(word_to_delete, \"\")\n",
    "\n",
    "print(\"The updated string after deletion is:\", updated_string)"
   ]
  },
  {
   "cell_type": "raw",
   "id": "be7a2862-ae49-4dcc-a32e-682c10098b89",
   "metadata": {},
   "source": [
    "6. Write a program that reads a string from the user containing a date in the form mm/dd/yyyy. It\n",
    "should print the date in the form March 12, 2021."
   ]
  },
  {
   "cell_type": "code",
   "execution_count": 16,
   "id": "ae4fe426-86c9-4f86-a4eb-6fa9736d6d47",
   "metadata": {},
   "outputs": [
    {
     "name": "stdin",
     "output_type": "stream",
     "text": [
      "Enter the date in mm/dd/yyyy format:  01/21/1999\n"
     ]
    },
    {
     "name": "stdout",
     "output_type": "stream",
     "text": [
      "The formatted date is: January 21, 1999\n"
     ]
    }
   ],
   "source": [
    "month_names = [\"January\", \"February\", \"March\", \"April\", \"May\", \"June\", \"July\", \"August\", \n",
    "                \"September\", \"October\", \"November\", \"December\"]\n",
    "date_input = input(\"Enter the date in mm/dd/yyyy format: \")\n",
    "\n",
    "month, day, year = date_input.split('/')\n",
    "\n",
    "month_name = month_names[int(month) - 1]\n",
    "formatted_date = f\"{month_name} {int(day)}, {year}\"\n",
    "print(\"The formatted date is:\", formatted_date)\n"
   ]
  },
  {
   "cell_type": "raw",
   "id": "0317a056-cfc7-440a-973f-b0ca08086111",
   "metadata": {},
   "source": [
    "7. Write a program with a function that accepts a string from keyboard and create a new string after\n",
    "converting character of each word capitalized. For instance, if the sentence is \"stop and smell the roses.\"\n",
    "the output should be \"Stop And Smell The Roses\""
   ]
  },
  {
   "cell_type": "code",
   "execution_count": 17,
   "id": "2530484d-9330-44fc-8194-a81043d5d993",
   "metadata": {},
   "outputs": [
    {
     "name": "stdin",
     "output_type": "stream",
     "text": [
      "Enter any sentence: I am good. How are you?\n"
     ]
    },
    {
     "name": "stdout",
     "output_type": "stream",
     "text": [
      "I Am Good. How Are You?\n"
     ]
    }
   ],
   "source": [
    "sentence = str(input(\"Enter any sentence:\"))\n",
    "\n",
    "print(sentence.title())"
   ]
  },
  {
   "cell_type": "raw",
   "id": "7bd05c12-1136-4811-bb58-dea85745207f",
   "metadata": {},
   "source": [
    "8. Find the sum of each row of matrix of size m x n. For example for the following matrix output will be\n",
    "like this :\n",
    "Sum of row 1 = 32\n",
    "Sum of row 2 = 31\n",
    "Sum of row 3 = 63 "
   ]
  },
  {
   "cell_type": "code",
   "execution_count": 4,
   "id": "8347c880-8144-48f9-b053-89208158a4f4",
   "metadata": {},
   "outputs": [
    {
     "name": "stdin",
     "output_type": "stream",
     "text": [
      "Enter the number of rows (m):  2\n",
      "Enter the number of columns (n):  3\n"
     ]
    },
    {
     "name": "stdout",
     "output_type": "stream",
     "text": [
      "Enter the elements of the matrix row by row (separate values with spaces):\n"
     ]
    },
    {
     "name": "stdin",
     "output_type": "stream",
     "text": [
      "Enter row 1:  1 3 5\n",
      "Enter row 2:  1 2 2\n"
     ]
    },
    {
     "name": "stdout",
     "output_type": "stream",
     "text": [
      "Sum of row 1 = 9\n",
      "Sum of row 2 = 5\n"
     ]
    }
   ],
   "source": [
    "def row_sums(matrix):\n",
    "    for i, row in enumerate(matrix):\n",
    "        print(f\"Sum of row {i+1} = {sum(row)}\")\n",
    "\n",
    "m = int(input(\"Enter the number of rows (m): \"))\n",
    "n = int(input(\"Enter the number of columns (n): \"))\n",
    "\n",
    "matrix = []\n",
    "print(f\"Enter the elements of the matrix row by row (separate values with spaces):\")\n",
    "for i in range(m):\n",
    "    row = list(map(int, input(f\"Enter row {i+1}: \").split()))\n",
    "    matrix.append(row)\n",
    "\n",
    "row_sums(matrix)\n"
   ]
  },
  {
   "cell_type": "raw",
   "id": "86e86ed6-adda-4fd4-bb3e-ca1b4b80dccf",
   "metadata": {},
   "source": [
    "9. Write a program to add two matrices of size n x m. "
   ]
  },
  {
   "cell_type": "code",
   "execution_count": 3,
   "id": "c239300e-bca5-4094-86bb-e15e85279c95",
   "metadata": {},
   "outputs": [
    {
     "name": "stdin",
     "output_type": "stream",
     "text": [
      "Enter number of rows (n):  3\n",
      "Enter number of columns (m):  2\n"
     ]
    },
    {
     "name": "stdout",
     "output_type": "stream",
     "text": [
      "Enter elements for the first matrix:\n"
     ]
    },
    {
     "name": "stdin",
     "output_type": "stream",
     "text": [
      " 2 3 \n",
      " 1 3\n",
      " 5 1\n"
     ]
    },
    {
     "name": "stdout",
     "output_type": "stream",
     "text": [
      "Enter elements for the second matrix:\n"
     ]
    },
    {
     "name": "stdin",
     "output_type": "stream",
     "text": [
      " 6 3\n",
      " 4 2\n",
      " 6 2\n"
     ]
    },
    {
     "name": "stdout",
     "output_type": "stream",
     "text": [
      "The sum of the two matrices is:\n",
      "[8, 6]\n",
      "[5, 5]\n",
      "[11, 3]\n"
     ]
    }
   ],
   "source": [
    "def add_matrices(matrix1, matrix2, n, m):\n",
    "    result = []\n",
    "    for i in range(n):\n",
    "        row = [matrix1[i][j] + matrix2[i][j] for j in range(m)] \n",
    "        result.append(row)\n",
    "    return result\n",
    "\n",
    "n = int(input(\"Enter number of rows (n): \"))\n",
    "m = int(input(\"Enter number of columns (m): \"))\n",
    "\n",
    "print(\"Enter elements for the first matrix:\")\n",
    "matrix1 = [list(map(int, input().split())) for _ in range(n)]\n",
    "\n",
    "print(\"Enter elements for the second matrix:\")\n",
    "matrix2 = [list(map(int, input().split())) for _ in range(n)]\n",
    "\n",
    "result = add_matrices(matrix1, matrix2, n, m)\n",
    "print(\"The sum of the two matrices is:\")\n",
    "for row in result:\n",
    "    print(row)\n"
   ]
  },
  {
   "cell_type": "raw",
   "id": "816523d5-07b0-4c08-85e3-cb844c65b549",
   "metadata": {},
   "source": [
    "10. Write a program to multiply two matrices "
   ]
  },
  {
   "cell_type": "code",
   "execution_count": null,
   "id": "cdf399d5-dedc-41b6-831d-68e6a05913b7",
   "metadata": {},
   "outputs": [],
   "source": []
  },
  {
   "cell_type": "code",
   "execution_count": null,
   "id": "cb9ab296-7c3f-4a9b-9921-3d37c91164ef",
   "metadata": {},
   "outputs": [],
   "source": []
  },
  {
   "cell_type": "code",
   "execution_count": null,
   "id": "e67ca15e-0c31-446d-9db9-862b146e0360",
   "metadata": {},
   "outputs": [],
   "source": []
  },
  {
   "cell_type": "code",
   "execution_count": null,
   "id": "63a0a5ce-12f0-4964-b59a-f073d5ce024d",
   "metadata": {},
   "outputs": [],
   "source": []
  },
  {
   "cell_type": "code",
   "execution_count": null,
   "id": "d244e830-cdbb-4035-9d6f-a97d42b6ac91",
   "metadata": {},
   "outputs": [],
   "source": []
  },
  {
   "cell_type": "code",
   "execution_count": null,
   "id": "ba7c25a1-f272-4c05-877b-89ada8071c79",
   "metadata": {},
   "outputs": [],
   "source": []
  },
  {
   "cell_type": "code",
   "execution_count": null,
   "id": "8500e5d1-3a2a-423b-ae6c-b2ad92fc7b2a",
   "metadata": {},
   "outputs": [],
   "source": []
  },
  {
   "cell_type": "code",
   "execution_count": null,
   "id": "1c5cf91b-0392-4668-9345-58db8debdea5",
   "metadata": {},
   "outputs": [],
   "source": []
  },
  {
   "cell_type": "code",
   "execution_count": null,
   "id": "871bdf2f-86ce-4e4b-b696-05fcd96e884b",
   "metadata": {},
   "outputs": [],
   "source": []
  },
  {
   "cell_type": "code",
   "execution_count": null,
   "id": "718da0a5-160e-4879-9abd-ab1f5ffd677c",
   "metadata": {},
   "outputs": [],
   "source": []
  },
  {
   "cell_type": "code",
   "execution_count": null,
   "id": "0c17c1a9-6d41-4e08-b554-9408acd2ef6b",
   "metadata": {},
   "outputs": [],
   "source": []
  },
  {
   "cell_type": "code",
   "execution_count": null,
   "id": "2f7de66a-0b6b-444a-9b5f-59243e0aa93a",
   "metadata": {},
   "outputs": [],
   "source": []
  },
  {
   "cell_type": "code",
   "execution_count": null,
   "id": "0a5e743a-feaf-4e91-b509-a1b7196073cf",
   "metadata": {},
   "outputs": [],
   "source": []
  },
  {
   "cell_type": "code",
   "execution_count": null,
   "id": "4197264a-2539-4e9f-a1ec-37723a4d730d",
   "metadata": {},
   "outputs": [],
   "source": []
  },
  {
   "cell_type": "code",
   "execution_count": null,
   "id": "cecaa9f1-83d9-416c-ad56-f21a4a4c5854",
   "metadata": {},
   "outputs": [],
   "source": []
  },
  {
   "cell_type": "code",
   "execution_count": null,
   "id": "5a8f26e5-5da8-465f-bf5c-5b157c13739f",
   "metadata": {},
   "outputs": [],
   "source": []
  },
  {
   "cell_type": "code",
   "execution_count": null,
   "id": "68ac1710-692a-4701-a993-96e822e307e6",
   "metadata": {},
   "outputs": [],
   "source": []
  }
 ],
 "metadata": {
  "kernelspec": {
   "display_name": "Python 3 (ipykernel)",
   "language": "python",
   "name": "python3"
  },
  "language_info": {
   "codemirror_mode": {
    "name": "ipython",
    "version": 3
   },
   "file_extension": ".py",
   "mimetype": "text/x-python",
   "name": "python",
   "nbconvert_exporter": "python",
   "pygments_lexer": "ipython3",
   "version": "3.12.7"
  }
 },
 "nbformat": 4,
 "nbformat_minor": 5
}
